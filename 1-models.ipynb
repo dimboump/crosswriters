{
 "cells": [
  {
   "cell_type": "code",
   "execution_count": 1,
   "metadata": {},
   "outputs": [],
   "source": [
    "from pprint import pprint\n",
    "\n",
    "import pandas as pd\n",
    "import numpy as np\n",
    "import seaborn as sns\n",
    "from matplotlib import pyplot as plt\n",
    "\n",
    "from sklearn.model_selection import train_test_split\n",
    "from sklearn.compose import ColumnTransformer\n",
    "from sklearn.feature_extraction.text import TfidfVectorizer\n",
    "from sklearn.preprocessing import LabelEncoder\n",
    "from sklearn.svm import LinearSVC\n",
    "from sklearn.model_selection import GridSearchCV\n",
    "from sklearn.pipeline import make_pipeline\n",
    "from sklearn.metrics import classification_report\n",
    "from sklearn.metrics import confusion_matrix\n",
    "from sklearn.metrics import ConfusionMatrixDisplay\n",
    "\n",
    "# Render plots as SVG\n",
    "%config InlineBackend.figure_format = 'svg'"
   ]
  },
  {
   "cell_type": "code",
   "execution_count": 2,
   "metadata": {},
   "outputs": [
    {
     "data": {
      "text/html": [
       "<div>\n",
       "<style scoped>\n",
       "    .dataframe tbody tr th:only-of-type {\n",
       "        vertical-align: middle;\n",
       "    }\n",
       "\n",
       "    .dataframe tbody tr th {\n",
       "        vertical-align: top;\n",
       "    }\n",
       "\n",
       "    .dataframe thead th {\n",
       "        text-align: right;\n",
       "    }\n",
       "</style>\n",
       "<table border=\"1\" class=\"dataframe\">\n",
       "  <thead>\n",
       "    <tr style=\"text-align: right;\">\n",
       "      <th></th>\n",
       "      <th>text</th>\n",
       "      <th>author</th>\n",
       "      <th>author_gender</th>\n",
       "      <th>reader_age_group</th>\n",
       "    </tr>\n",
       "  </thead>\n",
       "  <tbody>\n",
       "    <tr>\n",
       "      <th>2184</th>\n",
       "      <td>caroline’s head. she would not even have been ...</td>\n",
       "      <td>Anne Fine</td>\n",
       "      <td>F</td>\n",
       "      <td>child</td>\n",
       "    </tr>\n",
       "    <tr>\n",
       "      <th>6561</th>\n",
       "      <td>self-interest once you’ve baited the hook, it ...</td>\n",
       "      <td>J.K. Rowling</td>\n",
       "      <td>F</td>\n",
       "      <td>adult</td>\n",
       "    </tr>\n",
       "    <tr>\n",
       "      <th>1208</th>\n",
       "      <td>slimy reddened faces. no, what i remember of t...</td>\n",
       "      <td>Anne Fine</td>\n",
       "      <td>F</td>\n",
       "      <td>adult</td>\n",
       "    </tr>\n",
       "    <tr>\n",
       "      <th>6508</th>\n",
       "      <td>had better keep his shoe on, nenita.’ the woma...</td>\n",
       "      <td>J.K. Rowling</td>\n",
       "      <td>F</td>\n",
       "      <td>adult</td>\n",
       "    </tr>\n",
       "    <tr>\n",
       "      <th>5744</th>\n",
       "      <td>wanted to find the stone – find it, but not us...</td>\n",
       "      <td>J.K. Rowling</td>\n",
       "      <td>F</td>\n",
       "      <td>child</td>\n",
       "    </tr>\n",
       "    <tr>\n",
       "      <th>1288</th>\n",
       "      <td>i could stick out my tongue at him, he had gon...</td>\n",
       "      <td>Anne Fine</td>\n",
       "      <td>F</td>\n",
       "      <td>child</td>\n",
       "    </tr>\n",
       "    <tr>\n",
       "      <th>6866</th>\n",
       "      <td>asked kim. “no,” said strike. “notes from her ...</td>\n",
       "      <td>J.K. Rowling</td>\n",
       "      <td>F</td>\n",
       "      <td>adult</td>\n",
       "    </tr>\n",
       "    <tr>\n",
       "      <th>1332</th>\n",
       "      <td>‘most helpful person in the class? me?’ ‘i was...</td>\n",
       "      <td>Anne Fine</td>\n",
       "      <td>F</td>\n",
       "      <td>child</td>\n",
       "    </tr>\n",
       "    <tr>\n",
       "      <th>1038</th>\n",
       "      <td>harris saw my new name and address. harris pho...</td>\n",
       "      <td>Anne Fine</td>\n",
       "      <td>F</td>\n",
       "      <td>child</td>\n",
       "    </tr>\n",
       "    <tr>\n",
       "      <th>272</th>\n",
       "      <td>bed and below the endless sky. it carried our ...</td>\n",
       "      <td>David Almond</td>\n",
       "      <td>M</td>\n",
       "      <td>child</td>\n",
       "    </tr>\n",
       "  </tbody>\n",
       "</table>\n",
       "</div>"
      ],
      "text/plain": [
       "                                                   text        author  \\\n",
       "2184  caroline’s head. she would not even have been ...     Anne Fine   \n",
       "6561  self-interest once you’ve baited the hook, it ...  J.K. Rowling   \n",
       "1208  slimy reddened faces. no, what i remember of t...     Anne Fine   \n",
       "6508  had better keep his shoe on, nenita.’ the woma...  J.K. Rowling   \n",
       "5744  wanted to find the stone – find it, but not us...  J.K. Rowling   \n",
       "1288  i could stick out my tongue at him, he had gon...     Anne Fine   \n",
       "6866  asked kim. “no,” said strike. “notes from her ...  J.K. Rowling   \n",
       "1332  ‘most helpful person in the class? me?’ ‘i was...     Anne Fine   \n",
       "1038  harris saw my new name and address. harris pho...     Anne Fine   \n",
       "272   bed and below the endless sky. it carried our ...  David Almond   \n",
       "\n",
       "     author_gender reader_age_group  \n",
       "2184             F            child  \n",
       "6561             F            adult  \n",
       "1208             F            adult  \n",
       "6508             F            adult  \n",
       "5744             F            child  \n",
       "1288             F            child  \n",
       "6866             F            adult  \n",
       "1332             F            child  \n",
       "1038             F            child  \n",
       "272              M            child  "
      ]
     },
     "execution_count": 2,
     "metadata": {},
     "output_type": "execute_result"
    }
   ],
   "source": [
    "df = (pd\n",
    "    .read_csv(\n",
    "        'data/crosswriters.csv', \n",
    "        encoding='utf-8', \n",
    "        usecols=['text', 'author', 'author_gender', 'reader_age_group']\n",
    "    )\n",
    "    .astype({\n",
    "        'author': 'category', \n",
    "        'author_gender': 'category', \n",
    "        'reader_age_group': 'category'\n",
    "    })\n",
    ")\n",
    "df.sample(10)"
   ]
  },
  {
   "cell_type": "markdown",
   "metadata": {},
   "source": [
    "## SVM \n",
    "\n",
    "### Child vs Adult"
   ]
  },
  {
   "cell_type": "code",
   "execution_count": 3,
   "metadata": {},
   "outputs": [
    {
     "name": "stdout",
     "output_type": "stream",
     "text": [
      "Before:\n",
      "child    4412\n",
      "adult    2457\n",
      "Name: reader_age_group, dtype: int64\n",
      "\n",
      "After:\n",
      "1    4412\n",
      "0    2457\n",
      "Name: reader_age_group, dtype: int64\n"
     ]
    },
    {
     "data": {
      "text/plain": [
       "{'adult': 0, 'child': 1}"
      ]
     },
     "execution_count": 3,
     "metadata": {},
     "output_type": "execute_result"
    }
   ],
   "source": [
    "print(\"Before:\", df['reader_age_group'].value_counts(), sep=\"\\n\", end=\"\\n\\n\")\n",
    "\n",
    "enc = LabelEncoder()\n",
    "enc.fit(df['reader_age_group'])\n",
    "encoded_labels = dict(zip(enc.classes_, enc.transform(enc.classes_))) # will use that in the cm later\n",
    "df['reader_age_group'] = enc.transform(df['reader_age_group'])\n",
    "\n",
    "print(\"After:\", df['reader_age_group'].value_counts(), sep=\"\\n\")\n",
    "encoded_labels"
   ]
  },
  {
   "cell_type": "code",
   "execution_count": 12,
   "metadata": {},
   "outputs": [
    {
     "data": {
      "text/plain": [
       "((5495,), (1374,), (5495,), (1374,))"
      ]
     },
     "execution_count": 12,
     "metadata": {},
     "output_type": "execute_result"
    }
   ],
   "source": [
    "X = df['text']\n",
    "y = df['reader_age_group']\n",
    "\n",
    "X_train, X_test, y_train, y_test = train_test_split(X, y, test_size=0.2, random_state=97, stratify=y)\n",
    "X_train.shape, X_test.shape, y_train.shape, y_test.shape"
   ]
  },
  {
   "cell_type": "code",
   "execution_count": 13,
   "metadata": {},
   "outputs": [
    {
     "name": "stdout",
     "output_type": "stream",
     "text": [
      "{'memory': None,\n",
      " 'steps': [('tfidfvectorizer', TfidfVectorizer(max_features=5000)),\n",
      "           ('linearsvc', LinearSVC())],\n",
      " 'verbose': False,\n",
      " 'tfidfvectorizer': TfidfVectorizer(max_features=5000),\n",
      " 'linearsvc': LinearSVC(),\n",
      " 'tfidfvectorizer__analyzer': 'word',\n",
      " 'tfidfvectorizer__binary': False,\n",
      " 'tfidfvectorizer__decode_error': 'strict',\n",
      " 'tfidfvectorizer__dtype': <class 'numpy.float64'>,\n",
      " 'tfidfvectorizer__encoding': 'utf-8',\n",
      " 'tfidfvectorizer__input': 'content',\n",
      " 'tfidfvectorizer__lowercase': True,\n",
      " 'tfidfvectorizer__max_df': 1.0,\n",
      " 'tfidfvectorizer__max_features': 5000,\n",
      " 'tfidfvectorizer__min_df': 1,\n",
      " 'tfidfvectorizer__ngram_range': (1, 1),\n",
      " 'tfidfvectorizer__norm': 'l2',\n",
      " 'tfidfvectorizer__preprocessor': None,\n",
      " 'tfidfvectorizer__smooth_idf': True,\n",
      " 'tfidfvectorizer__stop_words': None,\n",
      " 'tfidfvectorizer__strip_accents': None,\n",
      " 'tfidfvectorizer__sublinear_tf': False,\n",
      " 'tfidfvectorizer__token_pattern': '(?u)\\\\b\\\\w\\\\w+\\\\b',\n",
      " 'tfidfvectorizer__tokenizer': None,\n",
      " 'tfidfvectorizer__use_idf': True,\n",
      " 'tfidfvectorizer__vocabulary': None,\n",
      " 'linearsvc__C': 1.0,\n",
      " 'linearsvc__class_weight': None,\n",
      " 'linearsvc__dual': True,\n",
      " 'linearsvc__fit_intercept': True,\n",
      " 'linearsvc__intercept_scaling': 1,\n",
      " 'linearsvc__loss': 'squared_hinge',\n",
      " 'linearsvc__max_iter': 1000,\n",
      " 'linearsvc__multi_class': 'ovr',\n",
      " 'linearsvc__penalty': 'l2',\n",
      " 'linearsvc__random_state': None,\n",
      " 'linearsvc__tol': 0.0001,\n",
      " 'linearsvc__verbose': 0}\n"
     ]
    }
   ],
   "source": [
    "vect = TfidfVectorizer(max_features=5000)\n",
    "svm  = LinearSVC()\n",
    "pipe = make_pipeline(vect, svm)\n",
    "\n",
    "pprint(pipe.get_params(), sort_dicts=False)"
   ]
  },
  {
   "cell_type": "code",
   "execution_count": 14,
   "metadata": {},
   "outputs": [],
   "source": [
    "param_grid = {\n",
    "    # 'linearsvc__C': [0.1, 1, 10],\n",
    "    # 'linearsvc__loss': ['hinge', 'squared_hinge'],\n",
    "    'linearsvc__class_weight': ['balanced', None],\n",
    "    # 'tfidfvectorizer__analyzer': ['word', 'char'],\n",
    "    'tfidfvectorizer__ngram_range': [(1, 1), (1, 2), (1, 3)],\n",
    "    # 'tfidfvectorizer__max_df': [0.5, 0.75, 1.0],\n",
    "    # 'tfidfvectorizer__stop_words': ['english', None],\n",
    "    'tfidfvectorizer__lowercase': [False]  # already lowercased\n",
    "}"
   ]
  },
  {
   "cell_type": "code",
   "execution_count": 15,
   "metadata": {},
   "outputs": [
    {
     "name": "stdout",
     "output_type": "stream",
     "text": [
      "Fitting 10 folds for each of 6 candidates, totalling 60 fits\n",
      "[CV 1/10] END linearsvc__class_weight=balanced, tfidfvectorizer__lowercase=False, tfidfvectorizer__ngram_range=(1, 1);, score=0.987 total time=   8.5s\n",
      "[CV 2/10] END linearsvc__class_weight=balanced, tfidfvectorizer__lowercase=False, tfidfvectorizer__ngram_range=(1, 1);, score=0.996 total time=   7.9s\n",
      "[CV 3/10] END linearsvc__class_weight=balanced, tfidfvectorizer__lowercase=False, tfidfvectorizer__ngram_range=(1, 1);, score=0.995 total time=   7.7s\n",
      "[CV 4/10] END linearsvc__class_weight=balanced, tfidfvectorizer__lowercase=False, tfidfvectorizer__ngram_range=(1, 1);, score=0.995 total time=   7.8s\n",
      "[CV 5/10] END linearsvc__class_weight=balanced, tfidfvectorizer__lowercase=False, tfidfvectorizer__ngram_range=(1, 1);, score=0.993 total time=   7.3s\n",
      "[CV 6/10] END linearsvc__class_weight=balanced, tfidfvectorizer__lowercase=False, tfidfvectorizer__ngram_range=(1, 1);, score=0.991 total time=   7.4s\n",
      "[CV 7/10] END linearsvc__class_weight=balanced, tfidfvectorizer__lowercase=False, tfidfvectorizer__ngram_range=(1, 1);, score=0.991 total time=   7.7s\n",
      "[CV 8/10] END linearsvc__class_weight=balanced, tfidfvectorizer__lowercase=False, tfidfvectorizer__ngram_range=(1, 1);, score=0.991 total time=   7.3s\n",
      "[CV 9/10] END linearsvc__class_weight=balanced, tfidfvectorizer__lowercase=False, tfidfvectorizer__ngram_range=(1, 1);, score=0.995 total time=   7.0s\n",
      "[CV 10/10] END linearsvc__class_weight=balanced, tfidfvectorizer__lowercase=False, tfidfvectorizer__ngram_range=(1, 1);, score=0.995 total time=   7.1s\n",
      "[CV 1/10] END linearsvc__class_weight=balanced, tfidfvectorizer__lowercase=False, tfidfvectorizer__ngram_range=(1, 2);, score=0.978 total time=  24.9s\n",
      "[CV 2/10] END linearsvc__class_weight=balanced, tfidfvectorizer__lowercase=False, tfidfvectorizer__ngram_range=(1, 2);, score=0.985 total time=  24.7s\n",
      "[CV 3/10] END linearsvc__class_weight=balanced, tfidfvectorizer__lowercase=False, tfidfvectorizer__ngram_range=(1, 2);, score=0.984 total time=  23.7s\n",
      "[CV 4/10] END linearsvc__class_weight=balanced, tfidfvectorizer__lowercase=False, tfidfvectorizer__ngram_range=(1, 2);, score=0.987 total time=  28.6s\n",
      "[CV 5/10] END linearsvc__class_weight=balanced, tfidfvectorizer__lowercase=False, tfidfvectorizer__ngram_range=(1, 2);, score=0.985 total time=  46.6s\n",
      "[CV 6/10] END linearsvc__class_weight=balanced, tfidfvectorizer__lowercase=False, tfidfvectorizer__ngram_range=(1, 2);, score=0.978 total time=  46.8s\n",
      "[CV 7/10] END linearsvc__class_weight=balanced, tfidfvectorizer__lowercase=False, tfidfvectorizer__ngram_range=(1, 2);, score=0.987 total time=  33.4s\n",
      "[CV 8/10] END linearsvc__class_weight=balanced, tfidfvectorizer__lowercase=False, tfidfvectorizer__ngram_range=(1, 2);, score=0.985 total time=  42.3s\n",
      "[CV 9/10] END linearsvc__class_weight=balanced, tfidfvectorizer__lowercase=False, tfidfvectorizer__ngram_range=(1, 2);, score=0.989 total time=  21.6s\n",
      "[CV 10/10] END linearsvc__class_weight=balanced, tfidfvectorizer__lowercase=False, tfidfvectorizer__ngram_range=(1, 2);, score=0.987 total time=  22.1s\n",
      "[CV 1/10] END linearsvc__class_weight=balanced, tfidfvectorizer__lowercase=False, tfidfvectorizer__ngram_range=(1, 3);, score=0.969 total time=  55.1s\n",
      "[CV 2/10] END linearsvc__class_weight=balanced, tfidfvectorizer__lowercase=False, tfidfvectorizer__ngram_range=(1, 3);, score=0.982 total time=  59.1s\n",
      "[CV 3/10] END linearsvc__class_weight=balanced, tfidfvectorizer__lowercase=False, tfidfvectorizer__ngram_range=(1, 3);, score=0.984 total time=  56.2s\n",
      "[CV 4/10] END linearsvc__class_weight=balanced, tfidfvectorizer__lowercase=False, tfidfvectorizer__ngram_range=(1, 3);, score=0.987 total time=  51.9s\n",
      "[CV 5/10] END linearsvc__class_weight=balanced, tfidfvectorizer__lowercase=False, tfidfvectorizer__ngram_range=(1, 3);, score=0.987 total time=  50.6s\n",
      "[CV 6/10] END linearsvc__class_weight=balanced, tfidfvectorizer__lowercase=False, tfidfvectorizer__ngram_range=(1, 3);, score=0.980 total time=  53.1s\n",
      "[CV 7/10] END linearsvc__class_weight=balanced, tfidfvectorizer__lowercase=False, tfidfvectorizer__ngram_range=(1, 3);, score=0.987 total time= 1.4min\n",
      "[CV 8/10] END linearsvc__class_weight=balanced, tfidfvectorizer__lowercase=False, tfidfvectorizer__ngram_range=(1, 3);, score=0.982 total time= 1.0min\n",
      "[CV 9/10] END linearsvc__class_weight=balanced, tfidfvectorizer__lowercase=False, tfidfvectorizer__ngram_range=(1, 3);, score=0.985 total time= 1.3min\n",
      "[CV 10/10] END linearsvc__class_weight=balanced, tfidfvectorizer__lowercase=False, tfidfvectorizer__ngram_range=(1, 3);, score=0.982 total time= 1.4min\n",
      "[CV 1/10] END linearsvc__class_weight=None, tfidfvectorizer__lowercase=False, tfidfvectorizer__ngram_range=(1, 1);, score=0.991 total time=   7.9s\n",
      "[CV 2/10] END linearsvc__class_weight=None, tfidfvectorizer__lowercase=False, tfidfvectorizer__ngram_range=(1, 1);, score=0.996 total time=   9.8s\n",
      "[CV 3/10] END linearsvc__class_weight=None, tfidfvectorizer__lowercase=False, tfidfvectorizer__ngram_range=(1, 1);, score=0.996 total time=   9.0s\n",
      "[CV 4/10] END linearsvc__class_weight=None, tfidfvectorizer__lowercase=False, tfidfvectorizer__ngram_range=(1, 1);, score=0.995 total time=   8.7s\n",
      "[CV 5/10] END linearsvc__class_weight=None, tfidfvectorizer__lowercase=False, tfidfvectorizer__ngram_range=(1, 1);, score=0.993 total time=   8.4s\n",
      "[CV 6/10] END linearsvc__class_weight=None, tfidfvectorizer__lowercase=False, tfidfvectorizer__ngram_range=(1, 1);, score=0.989 total time=   6.2s\n",
      "[CV 7/10] END linearsvc__class_weight=None, tfidfvectorizer__lowercase=False, tfidfvectorizer__ngram_range=(1, 1);, score=0.995 total time=   6.9s\n",
      "[CV 8/10] END linearsvc__class_weight=None, tfidfvectorizer__lowercase=False, tfidfvectorizer__ngram_range=(1, 1);, score=0.989 total time=   8.5s\n",
      "[CV 9/10] END linearsvc__class_weight=None, tfidfvectorizer__lowercase=False, tfidfvectorizer__ngram_range=(1, 1);, score=0.998 total time=   8.8s\n",
      "[CV 10/10] END linearsvc__class_weight=None, tfidfvectorizer__lowercase=False, tfidfvectorizer__ngram_range=(1, 1);, score=0.995 total time=   9.2s\n",
      "[CV 1/10] END linearsvc__class_weight=None, tfidfvectorizer__lowercase=False, tfidfvectorizer__ngram_range=(1, 2);, score=0.985 total time=  27.4s\n",
      "[CV 2/10] END linearsvc__class_weight=None, tfidfvectorizer__lowercase=False, tfidfvectorizer__ngram_range=(1, 2);, score=0.987 total time=  38.9s\n",
      "[CV 3/10] END linearsvc__class_weight=None, tfidfvectorizer__lowercase=False, tfidfvectorizer__ngram_range=(1, 2);, score=0.985 total time=  25.9s\n",
      "[CV 4/10] END linearsvc__class_weight=None, tfidfvectorizer__lowercase=False, tfidfvectorizer__ngram_range=(1, 2);, score=0.987 total time=  28.1s\n",
      "[CV 5/10] END linearsvc__class_weight=None, tfidfvectorizer__lowercase=False, tfidfvectorizer__ngram_range=(1, 2);, score=0.985 total time=  25.5s\n",
      "[CV 6/10] END linearsvc__class_weight=None, tfidfvectorizer__lowercase=False, tfidfvectorizer__ngram_range=(1, 2);, score=0.982 total time=  25.9s\n",
      "[CV 7/10] END linearsvc__class_weight=None, tfidfvectorizer__lowercase=False, tfidfvectorizer__ngram_range=(1, 2);, score=0.984 total time=  26.2s\n",
      "[CV 8/10] END linearsvc__class_weight=None, tfidfvectorizer__lowercase=False, tfidfvectorizer__ngram_range=(1, 2);, score=0.982 total time=  25.0s\n",
      "[CV 9/10] END linearsvc__class_weight=None, tfidfvectorizer__lowercase=False, tfidfvectorizer__ngram_range=(1, 2);, score=0.991 total time=  27.9s\n",
      "[CV 10/10] END linearsvc__class_weight=None, tfidfvectorizer__lowercase=False, tfidfvectorizer__ngram_range=(1, 2);, score=0.989 total time=  27.1s\n",
      "[CV 1/10] END linearsvc__class_weight=None, tfidfvectorizer__lowercase=False, tfidfvectorizer__ngram_range=(1, 3);, score=0.976 total time= 1.1min\n",
      "[CV 2/10] END linearsvc__class_weight=None, tfidfvectorizer__lowercase=False, tfidfvectorizer__ngram_range=(1, 3);, score=0.987 total time= 1.1min\n",
      "[CV 3/10] END linearsvc__class_weight=None, tfidfvectorizer__lowercase=False, tfidfvectorizer__ngram_range=(1, 3);, score=0.985 total time=  58.5s\n",
      "[CV 4/10] END linearsvc__class_weight=None, tfidfvectorizer__lowercase=False, tfidfvectorizer__ngram_range=(1, 3);, score=0.987 total time=  59.3s\n",
      "[CV 5/10] END linearsvc__class_weight=None, tfidfvectorizer__lowercase=False, tfidfvectorizer__ngram_range=(1, 3);, score=0.985 total time=  53.8s\n",
      "[CV 6/10] END linearsvc__class_weight=None, tfidfvectorizer__lowercase=False, tfidfvectorizer__ngram_range=(1, 3);, score=0.978 total time=  53.2s\n",
      "[CV 7/10] END linearsvc__class_weight=None, tfidfvectorizer__lowercase=False, tfidfvectorizer__ngram_range=(1, 3);, score=0.984 total time= 1.1min\n",
      "[CV 8/10] END linearsvc__class_weight=None, tfidfvectorizer__lowercase=False, tfidfvectorizer__ngram_range=(1, 3);, score=0.980 total time=  56.7s\n",
      "[CV 9/10] END linearsvc__class_weight=None, tfidfvectorizer__lowercase=False, tfidfvectorizer__ngram_range=(1, 3);, score=0.984 total time=  56.8s\n",
      "[CV 10/10] END linearsvc__class_weight=None, tfidfvectorizer__lowercase=False, tfidfvectorizer__ngram_range=(1, 3);, score=0.984 total time=  54.2s\n"
     ]
    },
    {
     "data": {
      "text/html": [
       "<style>#sk-container-id-1 {color: black;background-color: white;}#sk-container-id-1 pre{padding: 0;}#sk-container-id-1 div.sk-toggleable {background-color: white;}#sk-container-id-1 label.sk-toggleable__label {cursor: pointer;display: block;width: 100%;margin-bottom: 0;padding: 0.3em;box-sizing: border-box;text-align: center;}#sk-container-id-1 label.sk-toggleable__label-arrow:before {content: \"▸\";float: left;margin-right: 0.25em;color: #696969;}#sk-container-id-1 label.sk-toggleable__label-arrow:hover:before {color: black;}#sk-container-id-1 div.sk-estimator:hover label.sk-toggleable__label-arrow:before {color: black;}#sk-container-id-1 div.sk-toggleable__content {max-height: 0;max-width: 0;overflow: hidden;text-align: left;background-color: #f0f8ff;}#sk-container-id-1 div.sk-toggleable__content pre {margin: 0.2em;color: black;border-radius: 0.25em;background-color: #f0f8ff;}#sk-container-id-1 input.sk-toggleable__control:checked~div.sk-toggleable__content {max-height: 200px;max-width: 100%;overflow: auto;}#sk-container-id-1 input.sk-toggleable__control:checked~label.sk-toggleable__label-arrow:before {content: \"▾\";}#sk-container-id-1 div.sk-estimator input.sk-toggleable__control:checked~label.sk-toggleable__label {background-color: #d4ebff;}#sk-container-id-1 div.sk-label input.sk-toggleable__control:checked~label.sk-toggleable__label {background-color: #d4ebff;}#sk-container-id-1 input.sk-hidden--visually {border: 0;clip: rect(1px 1px 1px 1px);clip: rect(1px, 1px, 1px, 1px);height: 1px;margin: -1px;overflow: hidden;padding: 0;position: absolute;width: 1px;}#sk-container-id-1 div.sk-estimator {font-family: monospace;background-color: #f0f8ff;border: 1px dotted black;border-radius: 0.25em;box-sizing: border-box;margin-bottom: 0.5em;}#sk-container-id-1 div.sk-estimator:hover {background-color: #d4ebff;}#sk-container-id-1 div.sk-parallel-item::after {content: \"\";width: 100%;border-bottom: 1px solid gray;flex-grow: 1;}#sk-container-id-1 div.sk-label:hover label.sk-toggleable__label {background-color: #d4ebff;}#sk-container-id-1 div.sk-serial::before {content: \"\";position: absolute;border-left: 1px solid gray;box-sizing: border-box;top: 0;bottom: 0;left: 50%;z-index: 0;}#sk-container-id-1 div.sk-serial {display: flex;flex-direction: column;align-items: center;background-color: white;padding-right: 0.2em;padding-left: 0.2em;position: relative;}#sk-container-id-1 div.sk-item {position: relative;z-index: 1;}#sk-container-id-1 div.sk-parallel {display: flex;align-items: stretch;justify-content: center;background-color: white;position: relative;}#sk-container-id-1 div.sk-item::before, #sk-container-id-1 div.sk-parallel-item::before {content: \"\";position: absolute;border-left: 1px solid gray;box-sizing: border-box;top: 0;bottom: 0;left: 50%;z-index: -1;}#sk-container-id-1 div.sk-parallel-item {display: flex;flex-direction: column;z-index: 1;position: relative;background-color: white;}#sk-container-id-1 div.sk-parallel-item:first-child::after {align-self: flex-end;width: 50%;}#sk-container-id-1 div.sk-parallel-item:last-child::after {align-self: flex-start;width: 50%;}#sk-container-id-1 div.sk-parallel-item:only-child::after {width: 0;}#sk-container-id-1 div.sk-dashed-wrapped {border: 1px dashed gray;margin: 0 0.4em 0.5em 0.4em;box-sizing: border-box;padding-bottom: 0.4em;background-color: white;}#sk-container-id-1 div.sk-label label {font-family: monospace;font-weight: bold;display: inline-block;line-height: 1.2em;}#sk-container-id-1 div.sk-label-container {text-align: center;}#sk-container-id-1 div.sk-container {/* jupyter's `normalize.less` sets `[hidden] { display: none; }` but bootstrap.min.css set `[hidden] { display: none !important; }` so we also need the `!important` here to be able to override the default hidden behavior on the sphinx rendered scikit-learn.org. See: https://github.com/scikit-learn/scikit-learn/issues/21755 */display: inline-block !important;position: relative;}#sk-container-id-1 div.sk-text-repr-fallback {display: none;}</style><div id=\"sk-container-id-1\" class=\"sk-top-container\"><div class=\"sk-text-repr-fallback\"><pre>GridSearchCV(cv=10,\n",
       "             estimator=Pipeline(steps=[(&#x27;tfidfvectorizer&#x27;,\n",
       "                                        TfidfVectorizer(max_features=5000)),\n",
       "                                       (&#x27;linearsvc&#x27;, LinearSVC())]),\n",
       "             n_jobs=1,\n",
       "             param_grid={&#x27;linearsvc__class_weight&#x27;: [&#x27;balanced&#x27;, None],\n",
       "                         &#x27;tfidfvectorizer__lowercase&#x27;: [False],\n",
       "                         &#x27;tfidfvectorizer__ngram_range&#x27;: [(1, 1), (1, 2),\n",
       "                                                          (1, 3)]},\n",
       "             scoring=&#x27;accuracy&#x27;, verbose=5)</pre><b>In a Jupyter environment, please rerun this cell to show the HTML representation or trust the notebook. <br />On GitHub, the HTML representation is unable to render, please try loading this page with nbviewer.org.</b></div><div class=\"sk-container\" hidden><div class=\"sk-item sk-dashed-wrapped\"><div class=\"sk-label-container\"><div class=\"sk-label sk-toggleable\"><input class=\"sk-toggleable__control sk-hidden--visually\" id=\"sk-estimator-id-1\" type=\"checkbox\" ><label for=\"sk-estimator-id-1\" class=\"sk-toggleable__label sk-toggleable__label-arrow\">GridSearchCV</label><div class=\"sk-toggleable__content\"><pre>GridSearchCV(cv=10,\n",
       "             estimator=Pipeline(steps=[(&#x27;tfidfvectorizer&#x27;,\n",
       "                                        TfidfVectorizer(max_features=5000)),\n",
       "                                       (&#x27;linearsvc&#x27;, LinearSVC())]),\n",
       "             n_jobs=1,\n",
       "             param_grid={&#x27;linearsvc__class_weight&#x27;: [&#x27;balanced&#x27;, None],\n",
       "                         &#x27;tfidfvectorizer__lowercase&#x27;: [False],\n",
       "                         &#x27;tfidfvectorizer__ngram_range&#x27;: [(1, 1), (1, 2),\n",
       "                                                          (1, 3)]},\n",
       "             scoring=&#x27;accuracy&#x27;, verbose=5)</pre></div></div></div><div class=\"sk-parallel\"><div class=\"sk-parallel-item\"><div class=\"sk-item\"><div class=\"sk-label-container\"><div class=\"sk-label sk-toggleable\"><input class=\"sk-toggleable__control sk-hidden--visually\" id=\"sk-estimator-id-2\" type=\"checkbox\" ><label for=\"sk-estimator-id-2\" class=\"sk-toggleable__label sk-toggleable__label-arrow\">estimator: Pipeline</label><div class=\"sk-toggleable__content\"><pre>Pipeline(steps=[(&#x27;tfidfvectorizer&#x27;, TfidfVectorizer(max_features=5000)),\n",
       "                (&#x27;linearsvc&#x27;, LinearSVC())])</pre></div></div></div><div class=\"sk-serial\"><div class=\"sk-item\"><div class=\"sk-serial\"><div class=\"sk-item\"><div class=\"sk-estimator sk-toggleable\"><input class=\"sk-toggleable__control sk-hidden--visually\" id=\"sk-estimator-id-3\" type=\"checkbox\" ><label for=\"sk-estimator-id-3\" class=\"sk-toggleable__label sk-toggleable__label-arrow\">TfidfVectorizer</label><div class=\"sk-toggleable__content\"><pre>TfidfVectorizer(max_features=5000)</pre></div></div></div><div class=\"sk-item\"><div class=\"sk-estimator sk-toggleable\"><input class=\"sk-toggleable__control sk-hidden--visually\" id=\"sk-estimator-id-4\" type=\"checkbox\" ><label for=\"sk-estimator-id-4\" class=\"sk-toggleable__label sk-toggleable__label-arrow\">LinearSVC</label><div class=\"sk-toggleable__content\"><pre>LinearSVC()</pre></div></div></div></div></div></div></div></div></div></div></div></div>"
      ],
      "text/plain": [
       "GridSearchCV(cv=10,\n",
       "             estimator=Pipeline(steps=[('tfidfvectorizer',\n",
       "                                        TfidfVectorizer(max_features=5000)),\n",
       "                                       ('linearsvc', LinearSVC())]),\n",
       "             n_jobs=1,\n",
       "             param_grid={'linearsvc__class_weight': ['balanced', None],\n",
       "                         'tfidfvectorizer__lowercase': [False],\n",
       "                         'tfidfvectorizer__ngram_range': [(1, 1), (1, 2),\n",
       "                                                          (1, 3)]},\n",
       "             scoring='accuracy', verbose=5)"
      ]
     },
     "execution_count": 15,
     "metadata": {},
     "output_type": "execute_result"
    }
   ],
   "source": [
    "gs = GridSearchCV(\n",
    "    pipe, \n",
    "    param_grid, \n",
    "    cv=10, \n",
    "    scoring='accuracy', \n",
    "    n_jobs=1, \n",
    "    refit=True, \n",
    "    verbose=5\n",
    ")\n",
    "gs.fit(X_train, y_train)"
   ]
  },
  {
   "cell_type": "code",
   "execution_count": 17,
   "metadata": {},
   "outputs": [
    {
     "name": "stdout",
     "output_type": "stream",
     "text": [
      "Best score: 0.9936300712038417\n",
      "\n",
      "Best params: {'linearsvc__class_weight': None, 'tfidfvectorizer__lowercase': False, 'tfidfvectorizer__ngram_range': (1, 1)}\n",
      "Best estimator: Pipeline(steps=[('tfidfvectorizer',\n",
      "                 TfidfVectorizer(lowercase=False, max_features=5000)),\n",
      "                ('linearsvc', LinearSVC())])\n",
      "\n",
      "Best estimator params: {'memory': None, 'steps': [('tfidfvectorizer', TfidfVectorizer(lowercase=False, max_features=5000)), ('linearsvc', LinearSVC())], 'verbose': False, 'tfidfvectorizer': TfidfVectorizer(lowercase=False, max_features=5000), 'linearsvc': LinearSVC(), 'tfidfvectorizer__analyzer': 'word', 'tfidfvectorizer__binary': False, 'tfidfvectorizer__decode_error': 'strict', 'tfidfvectorizer__dtype': <class 'numpy.float64'>, 'tfidfvectorizer__encoding': 'utf-8', 'tfidfvectorizer__input': 'content', 'tfidfvectorizer__lowercase': False, 'tfidfvectorizer__max_df': 1.0, 'tfidfvectorizer__max_features': 5000, 'tfidfvectorizer__min_df': 1, 'tfidfvectorizer__ngram_range': (1, 1), 'tfidfvectorizer__norm': 'l2', 'tfidfvectorizer__preprocessor': None, 'tfidfvectorizer__smooth_idf': True, 'tfidfvectorizer__stop_words': None, 'tfidfvectorizer__strip_accents': None, 'tfidfvectorizer__sublinear_tf': False, 'tfidfvectorizer__token_pattern': '(?u)\\\\b\\\\w\\\\w+\\\\b', 'tfidfvectorizer__tokenizer': None, 'tfidfvectorizer__use_idf': True, 'tfidfvectorizer__vocabulary': None, 'linearsvc__C': 1.0, 'linearsvc__class_weight': None, 'linearsvc__dual': True, 'linearsvc__fit_intercept': True, 'linearsvc__intercept_scaling': 1, 'linearsvc__loss': 'squared_hinge', 'linearsvc__max_iter': 1000, 'linearsvc__multi_class': 'ovr', 'linearsvc__penalty': 'l2', 'linearsvc__random_state': None, 'linearsvc__tol': 0.0001, 'linearsvc__verbose': 0}\n"
     ]
    }
   ],
   "source": [
    "print(\"Best score:\", gs.best_score_, end=\"\\n\\n\")\n",
    "print(\"Best params:\", gs.best_params_)\n",
    "print(\"Best estimator:\", gs.best_estimator_, end=\"\\n\\n\")\n",
    "print(\"Best estimator params:\", gs.best_estimator_.get_params())"
   ]
  },
  {
   "cell_type": "code",
   "execution_count": 18,
   "metadata": {},
   "outputs": [],
   "source": [
    "y_pred = gs.predict(X_test)"
   ]
  },
  {
   "cell_type": "code",
   "execution_count": 80,
   "metadata": {},
   "outputs": [
    {
     "data": {
      "image/svg+xml": "<?xml version=\"1.0\" encoding=\"utf-8\" standalone=\"no\"?>\n<!DOCTYPE svg PUBLIC \"-//W3C//DTD SVG 1.1//EN\"\n  \"http://www.w3.org/Graphics/SVG/1.1/DTD/svg11.dtd\">\n<svg xmlns:xlink=\"http://www.w3.org/1999/xlink\" width=\"328.54575pt\" height=\"296.75625pt\" viewBox=\"0 0 328.54575 296.75625\" xmlns=\"http://www.w3.org/2000/svg\" version=\"1.1\">\n <metadata>\n  <rdf:RDF xmlns:dc=\"http://purl.org/dc/elements/1.1/\" xmlns:cc=\"http://creativecommons.org/ns#\" xmlns:rdf=\"http://www.w3.org/1999/02/22-rdf-syntax-ns#\">\n   <cc:Work>\n    <dc:type rdf:resource=\"http://purl.org/dc/dcmitype/StillImage\"/>\n    <dc:date>2022-08-19T02:52:54.138888</dc:date>\n    <dc:format>image/svg+xml</dc:format>\n    <dc:creator>\n     <cc:Agent>\n      <dc:title>Matplotlib v3.5.2, https://matplotlib.org/</dc:title>\n     </cc:Agent>\n    </dc:creator>\n   </cc:Work>\n  </rdf:RDF>\n </metadata>\n <defs>\n  <style type=\"text/css\">*{stroke-linejoin: round; stroke-linecap: butt}</style>\n </defs>\n <g id=\"figure_1\">\n  <g id=\"patch_1\">\n   <path d=\"M 0 296.75625 \nL 328.54575 296.75625 \nL 328.54575 0 \nL 0 0 \nL 0 296.75625 \nz\n\" style=\"fill: none\"/>\n  </g>\n  <g id=\"axes_1\">\n   <g id=\"patch_2\">\n    <path d=\"M 53.390625 259.2 \nL 270.830625 259.2 \nL 270.830625 41.76 \nL 53.390625 41.76 \nz\n\" style=\"fill: #ffffff\"/>\n   </g>\n   <g clip-path=\"url(#p837986b987)\">\n    <image xlink:href=\"data:image/png;base64,\niVBORw0KGgoAAAANSUhEUgAAANoAAADaCAYAAADAHVzbAAACmUlEQVR4nO3VMRECQQAEQZ6IFC/gigQfL+vdIICA4NBwyVxRdCvYZGq392eMEz/len+snsCk8+oB8A+EBgGhQUBoEBAaBIQGAaFBQGgQEBoEhAYBoUFAaBAQGgSEBgGhQUBoEBAaBIQGAaFBQGgQEBoEhAYBoUFAaBAQGgSEBgGhQUBoEBAaBIQGAaFBQGgQEBoEhAYBoUFAaBAQGgSEBgGhQUBoEBAaBIQGAaFBQGgQEBoEhAYBoUFAaBAQGgSEBgGhQUBoEBAaBIQGAaFBQGgQEBoEhAYBoUFAaBAQGgSEBgGhQUBoEBAaBIQGAaFBQGgQEBoEhAYBoUFAaBAQGgSEBgGhQUBoEBAaBIQGAaFBQGgQEBoEhAYBoUFAaBAQGgSEBgGhQUBoEBAaBIQGAaFBQGgQEBoEhAYBoUFAaBAQGgSEBgGhQUBoEBAaBIQGAaFBQGgQEBoEhAYBoUFAaBDYLrfnWD2COa9jXz2BSR4NAkKDgNAgIDQICA0CQoOA0CAgNAgIDQJCg4DQICA0CAgNAkKDgNAgIDQICA0CQoOA0CAgNAgIDQJCg4DQICA0CAgNAkKDgNAgIDQICA0CQoOA0CAgNAgIDQJCg4DQICA0CAgNAkKDgNAgIDQICA0CQoOA0CAgNAgIDQJCg4DQICA0CAgNAkKDgNAgIDQICA0CQoOA0CAgNAgIDQJCg4DQICA0CAgNAkKDgNAgIDQICA0CQoOA0CAgNAgIDQJCg4DQICA0CAgNAkKDgNAgIDQICA0CQoOA0CAgNAgIDQJCg4DQICA0CAgNAkKDgNAgIDQICA0CQoOA0CAgNAgIDQJCg4DQICA0CAgNAkKDgNAgIDQICA0CQoOA0CAgNAgIDQJCg4DQICA0CHwBVvwKPBsoNlwAAAAASUVORK5CYII=\" id=\"imageb11e7adba3\" transform=\"scale(1 -1)translate(0 -218)\" x=\"53.390625\" y=\"-41.2\" width=\"218\" height=\"218\"/>\n   </g>\n   <g id=\"matplotlib.axis_1\">\n    <g id=\"xtick_1\">\n     <g id=\"line2d_1\">\n      <defs>\n       <path id=\"m15729141cf\" d=\"M 0 0 \nL 0 3.5 \n\" style=\"stroke: #000000; stroke-width: 0.8\"/>\n      </defs>\n      <g>\n       <use xlink:href=\"#m15729141cf\" x=\"107.750625\" y=\"259.2\" style=\"stroke: #000000; stroke-width: 0.8\"/>\n      </g>\n     </g>\n     <g id=\"text_1\">\n      <!-- adult -->\n      <g transform=\"translate(94.994375 273.798437)scale(0.1 -0.1)\">\n       <defs>\n        <path id=\"DejaVuSans-61\" d=\"M 2194 1759 \nQ 1497 1759 1228 1600 \nQ 959 1441 959 1056 \nQ 959 750 1161 570 \nQ 1363 391 1709 391 \nQ 2188 391 2477 730 \nQ 2766 1069 2766 1631 \nL 2766 1759 \nL 2194 1759 \nz\nM 3341 1997 \nL 3341 0 \nL 2766 0 \nL 2766 531 \nQ 2569 213 2275 61 \nQ 1981 -91 1556 -91 \nQ 1019 -91 701 211 \nQ 384 513 384 1019 \nQ 384 1609 779 1909 \nQ 1175 2209 1959 2209 \nL 2766 2209 \nL 2766 2266 \nQ 2766 2663 2505 2880 \nQ 2244 3097 1772 3097 \nQ 1472 3097 1187 3025 \nQ 903 2953 641 2809 \nL 641 3341 \nQ 956 3463 1253 3523 \nQ 1550 3584 1831 3584 \nQ 2591 3584 2966 3190 \nQ 3341 2797 3341 1997 \nz\n\" transform=\"scale(0.015625)\"/>\n        <path id=\"DejaVuSans-64\" d=\"M 2906 2969 \nL 2906 4863 \nL 3481 4863 \nL 3481 0 \nL 2906 0 \nL 2906 525 \nQ 2725 213 2448 61 \nQ 2172 -91 1784 -91 \nQ 1150 -91 751 415 \nQ 353 922 353 1747 \nQ 353 2572 751 3078 \nQ 1150 3584 1784 3584 \nQ 2172 3584 2448 3432 \nQ 2725 3281 2906 2969 \nz\nM 947 1747 \nQ 947 1113 1208 752 \nQ 1469 391 1925 391 \nQ 2381 391 2643 752 \nQ 2906 1113 2906 1747 \nQ 2906 2381 2643 2742 \nQ 2381 3103 1925 3103 \nQ 1469 3103 1208 2742 \nQ 947 2381 947 1747 \nz\n\" transform=\"scale(0.015625)\"/>\n        <path id=\"DejaVuSans-75\" d=\"M 544 1381 \nL 544 3500 \nL 1119 3500 \nL 1119 1403 \nQ 1119 906 1312 657 \nQ 1506 409 1894 409 \nQ 2359 409 2629 706 \nQ 2900 1003 2900 1516 \nL 2900 3500 \nL 3475 3500 \nL 3475 0 \nL 2900 0 \nL 2900 538 \nQ 2691 219 2414 64 \nQ 2138 -91 1772 -91 \nQ 1169 -91 856 284 \nQ 544 659 544 1381 \nz\nM 1991 3584 \nL 1991 3584 \nz\n\" transform=\"scale(0.015625)\"/>\n        <path id=\"DejaVuSans-6c\" d=\"M 603 4863 \nL 1178 4863 \nL 1178 0 \nL 603 0 \nL 603 4863 \nz\n\" transform=\"scale(0.015625)\"/>\n        <path id=\"DejaVuSans-74\" d=\"M 1172 4494 \nL 1172 3500 \nL 2356 3500 \nL 2356 3053 \nL 1172 3053 \nL 1172 1153 \nQ 1172 725 1289 603 \nQ 1406 481 1766 481 \nL 2356 481 \nL 2356 0 \nL 1766 0 \nQ 1100 0 847 248 \nQ 594 497 594 1153 \nL 594 3053 \nL 172 3053 \nL 172 3500 \nL 594 3500 \nL 594 4494 \nL 1172 4494 \nz\n\" transform=\"scale(0.015625)\"/>\n       </defs>\n       <use xlink:href=\"#DejaVuSans-61\"/>\n       <use xlink:href=\"#DejaVuSans-64\" x=\"61.279297\"/>\n       <use xlink:href=\"#DejaVuSans-75\" x=\"124.755859\"/>\n       <use xlink:href=\"#DejaVuSans-6c\" x=\"188.134766\"/>\n       <use xlink:href=\"#DejaVuSans-74\" x=\"215.917969\"/>\n      </g>\n     </g>\n    </g>\n    <g id=\"xtick_2\">\n     <g id=\"line2d_2\">\n      <g>\n       <use xlink:href=\"#m15729141cf\" x=\"216.470625\" y=\"259.2\" style=\"stroke: #000000; stroke-width: 0.8\"/>\n      </g>\n     </g>\n     <g id=\"text_2\">\n      <!-- child -->\n      <g transform=\"translate(204.600313 273.798437)scale(0.1 -0.1)\">\n       <defs>\n        <path id=\"DejaVuSans-63\" d=\"M 3122 3366 \nL 3122 2828 \nQ 2878 2963 2633 3030 \nQ 2388 3097 2138 3097 \nQ 1578 3097 1268 2742 \nQ 959 2388 959 1747 \nQ 959 1106 1268 751 \nQ 1578 397 2138 397 \nQ 2388 397 2633 464 \nQ 2878 531 3122 666 \nL 3122 134 \nQ 2881 22 2623 -34 \nQ 2366 -91 2075 -91 \nQ 1284 -91 818 406 \nQ 353 903 353 1747 \nQ 353 2603 823 3093 \nQ 1294 3584 2113 3584 \nQ 2378 3584 2631 3529 \nQ 2884 3475 3122 3366 \nz\n\" transform=\"scale(0.015625)\"/>\n        <path id=\"DejaVuSans-68\" d=\"M 3513 2113 \nL 3513 0 \nL 2938 0 \nL 2938 2094 \nQ 2938 2591 2744 2837 \nQ 2550 3084 2163 3084 \nQ 1697 3084 1428 2787 \nQ 1159 2491 1159 1978 \nL 1159 0 \nL 581 0 \nL 581 4863 \nL 1159 4863 \nL 1159 2956 \nQ 1366 3272 1645 3428 \nQ 1925 3584 2291 3584 \nQ 2894 3584 3203 3211 \nQ 3513 2838 3513 2113 \nz\n\" transform=\"scale(0.015625)\"/>\n        <path id=\"DejaVuSans-69\" d=\"M 603 3500 \nL 1178 3500 \nL 1178 0 \nL 603 0 \nL 603 3500 \nz\nM 603 4863 \nL 1178 4863 \nL 1178 4134 \nL 603 4134 \nL 603 4863 \nz\n\" transform=\"scale(0.015625)\"/>\n       </defs>\n       <use xlink:href=\"#DejaVuSans-63\"/>\n       <use xlink:href=\"#DejaVuSans-68\" x=\"54.980469\"/>\n       <use xlink:href=\"#DejaVuSans-69\" x=\"118.359375\"/>\n       <use xlink:href=\"#DejaVuSans-6c\" x=\"146.142578\"/>\n       <use xlink:href=\"#DejaVuSans-64\" x=\"173.925781\"/>\n      </g>\n     </g>\n    </g>\n    <g id=\"text_3\">\n     <!-- Predicted label -->\n     <g transform=\"translate(124.958281 287.476562)scale(0.1 -0.1)\">\n      <defs>\n       <path id=\"DejaVuSans-50\" d=\"M 1259 4147 \nL 1259 2394 \nL 2053 2394 \nQ 2494 2394 2734 2622 \nQ 2975 2850 2975 3272 \nQ 2975 3691 2734 3919 \nQ 2494 4147 2053 4147 \nL 1259 4147 \nz\nM 628 4666 \nL 2053 4666 \nQ 2838 4666 3239 4311 \nQ 3641 3956 3641 3272 \nQ 3641 2581 3239 2228 \nQ 2838 1875 2053 1875 \nL 1259 1875 \nL 1259 0 \nL 628 0 \nL 628 4666 \nz\n\" transform=\"scale(0.015625)\"/>\n       <path id=\"DejaVuSans-72\" d=\"M 2631 2963 \nQ 2534 3019 2420 3045 \nQ 2306 3072 2169 3072 \nQ 1681 3072 1420 2755 \nQ 1159 2438 1159 1844 \nL 1159 0 \nL 581 0 \nL 581 3500 \nL 1159 3500 \nL 1159 2956 \nQ 1341 3275 1631 3429 \nQ 1922 3584 2338 3584 \nQ 2397 3584 2469 3576 \nQ 2541 3569 2628 3553 \nL 2631 2963 \nz\n\" transform=\"scale(0.015625)\"/>\n       <path id=\"DejaVuSans-65\" d=\"M 3597 1894 \nL 3597 1613 \nL 953 1613 \nQ 991 1019 1311 708 \nQ 1631 397 2203 397 \nQ 2534 397 2845 478 \nQ 3156 559 3463 722 \nL 3463 178 \nQ 3153 47 2828 -22 \nQ 2503 -91 2169 -91 \nQ 1331 -91 842 396 \nQ 353 884 353 1716 \nQ 353 2575 817 3079 \nQ 1281 3584 2069 3584 \nQ 2775 3584 3186 3129 \nQ 3597 2675 3597 1894 \nz\nM 3022 2063 \nQ 3016 2534 2758 2815 \nQ 2500 3097 2075 3097 \nQ 1594 3097 1305 2825 \nQ 1016 2553 972 2059 \nL 3022 2063 \nz\n\" transform=\"scale(0.015625)\"/>\n       <path id=\"DejaVuSans-20\" transform=\"scale(0.015625)\"/>\n       <path id=\"DejaVuSans-62\" d=\"M 3116 1747 \nQ 3116 2381 2855 2742 \nQ 2594 3103 2138 3103 \nQ 1681 3103 1420 2742 \nQ 1159 2381 1159 1747 \nQ 1159 1113 1420 752 \nQ 1681 391 2138 391 \nQ 2594 391 2855 752 \nQ 3116 1113 3116 1747 \nz\nM 1159 2969 \nQ 1341 3281 1617 3432 \nQ 1894 3584 2278 3584 \nQ 2916 3584 3314 3078 \nQ 3713 2572 3713 1747 \nQ 3713 922 3314 415 \nQ 2916 -91 2278 -91 \nQ 1894 -91 1617 61 \nQ 1341 213 1159 525 \nL 1159 0 \nL 581 0 \nL 581 4863 \nL 1159 4863 \nL 1159 2969 \nz\n\" transform=\"scale(0.015625)\"/>\n      </defs>\n      <use xlink:href=\"#DejaVuSans-50\"/>\n      <use xlink:href=\"#DejaVuSans-72\" x=\"58.552734\"/>\n      <use xlink:href=\"#DejaVuSans-65\" x=\"97.416016\"/>\n      <use xlink:href=\"#DejaVuSans-64\" x=\"158.939453\"/>\n      <use xlink:href=\"#DejaVuSans-69\" x=\"222.416016\"/>\n      <use xlink:href=\"#DejaVuSans-63\" x=\"250.199219\"/>\n      <use xlink:href=\"#DejaVuSans-74\" x=\"305.179688\"/>\n      <use xlink:href=\"#DejaVuSans-65\" x=\"344.388672\"/>\n      <use xlink:href=\"#DejaVuSans-64\" x=\"405.912109\"/>\n      <use xlink:href=\"#DejaVuSans-20\" x=\"469.388672\"/>\n      <use xlink:href=\"#DejaVuSans-6c\" x=\"501.175781\"/>\n      <use xlink:href=\"#DejaVuSans-61\" x=\"528.958984\"/>\n      <use xlink:href=\"#DejaVuSans-62\" x=\"590.238281\"/>\n      <use xlink:href=\"#DejaVuSans-65\" x=\"653.714844\"/>\n      <use xlink:href=\"#DejaVuSans-6c\" x=\"715.238281\"/>\n     </g>\n    </g>\n   </g>\n   <g id=\"matplotlib.axis_2\">\n    <g id=\"ytick_1\">\n     <g id=\"line2d_3\">\n      <defs>\n       <path id=\"m5312cb48c6\" d=\"M 0 0 \nL -3.5 0 \n\" style=\"stroke: #000000; stroke-width: 0.8\"/>\n      </defs>\n      <g>\n       <use xlink:href=\"#m5312cb48c6\" x=\"53.390625\" y=\"96.12\" style=\"stroke: #000000; stroke-width: 0.8\"/>\n      </g>\n     </g>\n     <g id=\"text_4\">\n      <!-- adult -->\n      <g transform=\"translate(20.878125 99.919219)scale(0.1 -0.1)\">\n       <use xlink:href=\"#DejaVuSans-61\"/>\n       <use xlink:href=\"#DejaVuSans-64\" x=\"61.279297\"/>\n       <use xlink:href=\"#DejaVuSans-75\" x=\"124.755859\"/>\n       <use xlink:href=\"#DejaVuSans-6c\" x=\"188.134766\"/>\n       <use xlink:href=\"#DejaVuSans-74\" x=\"215.917969\"/>\n      </g>\n     </g>\n    </g>\n    <g id=\"ytick_2\">\n     <g id=\"line2d_4\">\n      <g>\n       <use xlink:href=\"#m5312cb48c6\" x=\"53.390625\" y=\"204.84\" style=\"stroke: #000000; stroke-width: 0.8\"/>\n      </g>\n     </g>\n     <g id=\"text_5\">\n      <!-- child -->\n      <g transform=\"translate(22.65 208.639219)scale(0.1 -0.1)\">\n       <use xlink:href=\"#DejaVuSans-63\"/>\n       <use xlink:href=\"#DejaVuSans-68\" x=\"54.980469\"/>\n       <use xlink:href=\"#DejaVuSans-69\" x=\"118.359375\"/>\n       <use xlink:href=\"#DejaVuSans-6c\" x=\"146.142578\"/>\n       <use xlink:href=\"#DejaVuSans-64\" x=\"173.925781\"/>\n      </g>\n     </g>\n    </g>\n    <g id=\"text_6\">\n     <!-- True label -->\n     <g transform=\"translate(14.798438 174.779219)rotate(-90)scale(0.1 -0.1)\">\n      <defs>\n       <path id=\"DejaVuSans-54\" d=\"M -19 4666 \nL 3928 4666 \nL 3928 4134 \nL 2272 4134 \nL 2272 0 \nL 1638 0 \nL 1638 4134 \nL -19 4134 \nL -19 4666 \nz\n\" transform=\"scale(0.015625)\"/>\n      </defs>\n      <use xlink:href=\"#DejaVuSans-54\"/>\n      <use xlink:href=\"#DejaVuSans-72\" x=\"46.333984\"/>\n      <use xlink:href=\"#DejaVuSans-75\" x=\"87.447266\"/>\n      <use xlink:href=\"#DejaVuSans-65\" x=\"150.826172\"/>\n      <use xlink:href=\"#DejaVuSans-20\" x=\"212.349609\"/>\n      <use xlink:href=\"#DejaVuSans-6c\" x=\"244.136719\"/>\n      <use xlink:href=\"#DejaVuSans-61\" x=\"271.919922\"/>\n      <use xlink:href=\"#DejaVuSans-62\" x=\"333.199219\"/>\n      <use xlink:href=\"#DejaVuSans-65\" x=\"396.675781\"/>\n      <use xlink:href=\"#DejaVuSans-6c\" x=\"458.199219\"/>\n     </g>\n    </g>\n   </g>\n   <g id=\"patch_3\">\n    <path d=\"M 53.390625 259.2 \nL 53.390625 41.76 \n\" style=\"fill: none; stroke: #000000; stroke-width: 0.8; stroke-linejoin: miter; stroke-linecap: square\"/>\n   </g>\n   <g id=\"patch_4\">\n    <path d=\"M 270.830625 259.2 \nL 270.830625 41.76 \n\" style=\"fill: none; stroke: #000000; stroke-width: 0.8; stroke-linejoin: miter; stroke-linecap: square\"/>\n   </g>\n   <g id=\"patch_5\">\n    <path d=\"M 53.390625 259.2 \nL 270.830625 259.2 \n\" style=\"fill: none; stroke: #000000; stroke-width: 0.8; stroke-linejoin: miter; stroke-linecap: square\"/>\n   </g>\n   <g id=\"patch_6\">\n    <path d=\"M 53.390625 41.76 \nL 270.830625 41.76 \n\" style=\"fill: none; stroke: #000000; stroke-width: 0.8; stroke-linejoin: miter; stroke-linecap: square\"/>\n   </g>\n   <g id=\"text_7\">\n    <!-- 0.98 -->\n    <g style=\"fill: #f7fbff\" transform=\"translate(96.617813 98.879375)scale(0.1 -0.1)\">\n     <defs>\n      <path id=\"DejaVuSans-30\" d=\"M 2034 4250 \nQ 1547 4250 1301 3770 \nQ 1056 3291 1056 2328 \nQ 1056 1369 1301 889 \nQ 1547 409 2034 409 \nQ 2525 409 2770 889 \nQ 3016 1369 3016 2328 \nQ 3016 3291 2770 3770 \nQ 2525 4250 2034 4250 \nz\nM 2034 4750 \nQ 2819 4750 3233 4129 \nQ 3647 3509 3647 2328 \nQ 3647 1150 3233 529 \nQ 2819 -91 2034 -91 \nQ 1250 -91 836 529 \nQ 422 1150 422 2328 \nQ 422 3509 836 4129 \nQ 1250 4750 2034 4750 \nz\n\" transform=\"scale(0.015625)\"/>\n      <path id=\"DejaVuSans-2e\" d=\"M 684 794 \nL 1344 794 \nL 1344 0 \nL 684 0 \nL 684 794 \nz\n\" transform=\"scale(0.015625)\"/>\n      <path id=\"DejaVuSans-39\" d=\"M 703 97 \nL 703 672 \nQ 941 559 1184 500 \nQ 1428 441 1663 441 \nQ 2288 441 2617 861 \nQ 2947 1281 2994 2138 \nQ 2813 1869 2534 1725 \nQ 2256 1581 1919 1581 \nQ 1219 1581 811 2004 \nQ 403 2428 403 3163 \nQ 403 3881 828 4315 \nQ 1253 4750 1959 4750 \nQ 2769 4750 3195 4129 \nQ 3622 3509 3622 2328 \nQ 3622 1225 3098 567 \nQ 2575 -91 1691 -91 \nQ 1453 -91 1209 -44 \nQ 966 3 703 97 \nz\nM 1959 2075 \nQ 2384 2075 2632 2365 \nQ 2881 2656 2881 3163 \nQ 2881 3666 2632 3958 \nQ 2384 4250 1959 4250 \nQ 1534 4250 1286 3958 \nQ 1038 3666 1038 3163 \nQ 1038 2656 1286 2365 \nQ 1534 2075 1959 2075 \nz\n\" transform=\"scale(0.015625)\"/>\n      <path id=\"DejaVuSans-38\" d=\"M 2034 2216 \nQ 1584 2216 1326 1975 \nQ 1069 1734 1069 1313 \nQ 1069 891 1326 650 \nQ 1584 409 2034 409 \nQ 2484 409 2743 651 \nQ 3003 894 3003 1313 \nQ 3003 1734 2745 1975 \nQ 2488 2216 2034 2216 \nz\nM 1403 2484 \nQ 997 2584 770 2862 \nQ 544 3141 544 3541 \nQ 544 4100 942 4425 \nQ 1341 4750 2034 4750 \nQ 2731 4750 3128 4425 \nQ 3525 4100 3525 3541 \nQ 3525 3141 3298 2862 \nQ 3072 2584 2669 2484 \nQ 3125 2378 3379 2068 \nQ 3634 1759 3634 1313 \nQ 3634 634 3220 271 \nQ 2806 -91 2034 -91 \nQ 1263 -91 848 271 \nQ 434 634 434 1313 \nQ 434 1759 690 2068 \nQ 947 2378 1403 2484 \nz\nM 1172 3481 \nQ 1172 3119 1398 2916 \nQ 1625 2713 2034 2713 \nQ 2441 2713 2670 2916 \nQ 2900 3119 2900 3481 \nQ 2900 3844 2670 4047 \nQ 2441 4250 2034 4250 \nQ 1625 4250 1398 4047 \nQ 1172 3844 1172 3481 \nz\n\" transform=\"scale(0.015625)\"/>\n     </defs>\n     <use xlink:href=\"#DejaVuSans-30\"/>\n     <use xlink:href=\"#DejaVuSans-2e\" x=\"63.623047\"/>\n     <use xlink:href=\"#DejaVuSans-39\" x=\"95.410156\"/>\n     <use xlink:href=\"#DejaVuSans-38\" x=\"159.033203\"/>\n    </g>\n   </g>\n   <g id=\"text_8\">\n    <!-- 0.018 -->\n    <g style=\"fill: #08306b\" transform=\"translate(202.156563 98.879375)scale(0.1 -0.1)\">\n     <defs>\n      <path id=\"DejaVuSans-31\" d=\"M 794 531 \nL 1825 531 \nL 1825 4091 \nL 703 3866 \nL 703 4441 \nL 1819 4666 \nL 2450 4666 \nL 2450 531 \nL 3481 531 \nL 3481 0 \nL 794 0 \nL 794 531 \nz\n\" transform=\"scale(0.015625)\"/>\n     </defs>\n     <use xlink:href=\"#DejaVuSans-30\"/>\n     <use xlink:href=\"#DejaVuSans-2e\" x=\"63.623047\"/>\n     <use xlink:href=\"#DejaVuSans-30\" x=\"95.410156\"/>\n     <use xlink:href=\"#DejaVuSans-31\" x=\"159.033203\"/>\n     <use xlink:href=\"#DejaVuSans-38\" x=\"222.65625\"/>\n    </g>\n   </g>\n   <g id=\"text_9\">\n    <!-- 0.0023 -->\n    <g style=\"fill: #08306b\" transform=\"translate(90.255313 207.599375)scale(0.1 -0.1)\">\n     <defs>\n      <path id=\"DejaVuSans-32\" d=\"M 1228 531 \nL 3431 531 \nL 3431 0 \nL 469 0 \nL 469 531 \nQ 828 903 1448 1529 \nQ 2069 2156 2228 2338 \nQ 2531 2678 2651 2914 \nQ 2772 3150 2772 3378 \nQ 2772 3750 2511 3984 \nQ 2250 4219 1831 4219 \nQ 1534 4219 1204 4116 \nQ 875 4013 500 3803 \nL 500 4441 \nQ 881 4594 1212 4672 \nQ 1544 4750 1819 4750 \nQ 2544 4750 2975 4387 \nQ 3406 4025 3406 3419 \nQ 3406 3131 3298 2873 \nQ 3191 2616 2906 2266 \nQ 2828 2175 2409 1742 \nQ 1991 1309 1228 531 \nz\n\" transform=\"scale(0.015625)\"/>\n      <path id=\"DejaVuSans-33\" d=\"M 2597 2516 \nQ 3050 2419 3304 2112 \nQ 3559 1806 3559 1356 \nQ 3559 666 3084 287 \nQ 2609 -91 1734 -91 \nQ 1441 -91 1130 -33 \nQ 819 25 488 141 \nL 488 750 \nQ 750 597 1062 519 \nQ 1375 441 1716 441 \nQ 2309 441 2620 675 \nQ 2931 909 2931 1356 \nQ 2931 1769 2642 2001 \nQ 2353 2234 1838 2234 \nL 1294 2234 \nL 1294 2753 \nL 1863 2753 \nQ 2328 2753 2575 2939 \nQ 2822 3125 2822 3475 \nQ 2822 3834 2567 4026 \nQ 2313 4219 1838 4219 \nQ 1578 4219 1281 4162 \nQ 984 4106 628 3988 \nL 628 4550 \nQ 988 4650 1302 4700 \nQ 1616 4750 1894 4750 \nQ 2613 4750 3031 4423 \nQ 3450 4097 3450 3541 \nQ 3450 3153 3228 2886 \nQ 3006 2619 2597 2516 \nz\n\" transform=\"scale(0.015625)\"/>\n     </defs>\n     <use xlink:href=\"#DejaVuSans-30\"/>\n     <use xlink:href=\"#DejaVuSans-2e\" x=\"63.623047\"/>\n     <use xlink:href=\"#DejaVuSans-30\" x=\"95.410156\"/>\n     <use xlink:href=\"#DejaVuSans-30\" x=\"159.033203\"/>\n     <use xlink:href=\"#DejaVuSans-32\" x=\"222.65625\"/>\n     <use xlink:href=\"#DejaVuSans-33\" x=\"286.279297\"/>\n    </g>\n   </g>\n   <g id=\"text_10\">\n    <!-- 1 -->\n    <g style=\"fill: #f7fbff\" transform=\"translate(213.289375 207.599375)scale(0.1 -0.1)\">\n     <use xlink:href=\"#DejaVuSans-31\"/>\n    </g>\n   </g>\n   <g id=\"text_11\">\n    <!-- Accuracy: 0.994 -->\n    <g transform=\"translate(122.0575 33.76)scale(0.1 -0.1)\">\n     <defs>\n      <path id=\"DejaVuSans-41\" d=\"M 2188 4044 \nL 1331 1722 \nL 3047 1722 \nL 2188 4044 \nz\nM 1831 4666 \nL 2547 4666 \nL 4325 0 \nL 3669 0 \nL 3244 1197 \nL 1141 1197 \nL 716 0 \nL 50 0 \nL 1831 4666 \nz\n\" transform=\"scale(0.015625)\"/>\n      <path id=\"DejaVuSans-79\" d=\"M 2059 -325 \nQ 1816 -950 1584 -1140 \nQ 1353 -1331 966 -1331 \nL 506 -1331 \nL 506 -850 \nL 844 -850 \nQ 1081 -850 1212 -737 \nQ 1344 -625 1503 -206 \nL 1606 56 \nL 191 3500 \nL 800 3500 \nL 1894 763 \nL 2988 3500 \nL 3597 3500 \nL 2059 -325 \nz\n\" transform=\"scale(0.015625)\"/>\n      <path id=\"DejaVuSans-3a\" d=\"M 750 794 \nL 1409 794 \nL 1409 0 \nL 750 0 \nL 750 794 \nz\nM 750 3309 \nL 1409 3309 \nL 1409 2516 \nL 750 2516 \nL 750 3309 \nz\n\" transform=\"scale(0.015625)\"/>\n      <path id=\"DejaVuSans-34\" d=\"M 2419 4116 \nL 825 1625 \nL 2419 1625 \nL 2419 4116 \nz\nM 2253 4666 \nL 3047 4666 \nL 3047 1625 \nL 3713 1625 \nL 3713 1100 \nL 3047 1100 \nL 3047 0 \nL 2419 0 \nL 2419 1100 \nL 313 1100 \nL 313 1709 \nL 2253 4666 \nz\n\" transform=\"scale(0.015625)\"/>\n     </defs>\n     <use xlink:href=\"#DejaVuSans-41\"/>\n     <use xlink:href=\"#DejaVuSans-63\" x=\"66.658203\"/>\n     <use xlink:href=\"#DejaVuSans-63\" x=\"121.638672\"/>\n     <use xlink:href=\"#DejaVuSans-75\" x=\"176.619141\"/>\n     <use xlink:href=\"#DejaVuSans-72\" x=\"239.998047\"/>\n     <use xlink:href=\"#DejaVuSans-61\" x=\"281.111328\"/>\n     <use xlink:href=\"#DejaVuSans-63\" x=\"342.390625\"/>\n     <use xlink:href=\"#DejaVuSans-79\" x=\"397.371094\"/>\n     <use xlink:href=\"#DejaVuSans-3a\" x=\"449.300781\"/>\n     <use xlink:href=\"#DejaVuSans-20\" x=\"482.992188\"/>\n     <use xlink:href=\"#DejaVuSans-30\" x=\"514.779297\"/>\n     <use xlink:href=\"#DejaVuSans-2e\" x=\"578.402344\"/>\n     <use xlink:href=\"#DejaVuSans-39\" x=\"610.189453\"/>\n     <use xlink:href=\"#DejaVuSans-39\" x=\"673.8125\"/>\n     <use xlink:href=\"#DejaVuSans-34\" x=\"737.435547\"/>\n    </g>\n   </g>\n  </g>\n  <g id=\"axes_2\">\n   <g id=\"patch_7\">\n    <path d=\"M 287.570625 259.2 \nL 298.442625 259.2 \nL 298.442625 41.76 \nL 287.570625 41.76 \nz\n\" style=\"fill: #ffffff\"/>\n   </g>\n   <g id=\"patch_8\">\n    <path clip-path=\"url(#pb7248d135a)\" style=\"fill: #ffffff; stroke: #ffffff; stroke-width: 0.01; stroke-linejoin: miter\"/>\n   </g>\n   <image xlink:href=\"data:image/png;base64,\niVBORw0KGgoAAAANSUhEUgAAAAoAAADZCAYAAAAZmKE8AAABFUlEQVR4nO2YQQpDIRBDp8X7H7eLgtoblDeQ+WHErsPEmJivfX2+ewf4jR0IFwPiYkBcDLbCzBr5RBv1m8EixoIjM2IgMOH1Oc5UBBdbqKf2nWsc3A6Vgte4Gjhzg/sXeIP7MLXeGb0Y/US911N/VcDpOUo1wyX6cdGJiduempqXvXwfExbqVUMgdmbCqkhUiu8U4jVWqFZP1Hf4hDmr+HLpgyufqI+ZPhQ8uGxgRZEWbDg/rvongPxcUzF6av0LiTcFV62m1j8gEx3ewGt59xTczYxen6T6KDHXQg2wg4W7wEIbkP/Ltdg1roDauY8NvDZa2MFrrNq4xuBAKmZNGzUHUmouRk5tnIhV05JyWtgiuOeI+QEzS98RW1prQwAAAABJRU5ErkJggg==\" id=\"image76b0298eab\" transform=\"scale(1 -1)translate(0 -217)\" x=\"288\" y=\"-41\" width=\"10\" height=\"217\"/>\n   <g id=\"matplotlib.axis_3\">\n    <g id=\"ytick_3\">\n     <g id=\"line2d_5\">\n      <defs>\n       <path id=\"m782091ca34\" d=\"M 0 0 \nL 3.5 0 \n\" style=\"stroke: #000000; stroke-width: 0.8\"/>\n      </defs>\n      <g>\n       <use xlink:href=\"#m782091ca34\" x=\"298.442625\" y=\"216.008846\" style=\"stroke: #000000; stroke-width: 0.8\"/>\n      </g>\n     </g>\n     <g id=\"text_12\">\n      <!-- 0.2 -->\n      <g transform=\"translate(305.442625 219.808065)scale(0.1 -0.1)\">\n       <use xlink:href=\"#DejaVuSans-30\"/>\n       <use xlink:href=\"#DejaVuSans-2e\" x=\"63.623047\"/>\n       <use xlink:href=\"#DejaVuSans-32\" x=\"95.410156\"/>\n      </g>\n     </g>\n    </g>\n    <g id=\"ytick_4\">\n     <g id=\"line2d_6\">\n      <g>\n       <use xlink:href=\"#m782091ca34\" x=\"298.442625\" y=\"172.322949\" style=\"stroke: #000000; stroke-width: 0.8\"/>\n      </g>\n     </g>\n     <g id=\"text_13\">\n      <!-- 0.4 -->\n      <g transform=\"translate(305.442625 176.122168)scale(0.1 -0.1)\">\n       <use xlink:href=\"#DejaVuSans-30\"/>\n       <use xlink:href=\"#DejaVuSans-2e\" x=\"63.623047\"/>\n       <use xlink:href=\"#DejaVuSans-34\" x=\"95.410156\"/>\n      </g>\n     </g>\n    </g>\n    <g id=\"ytick_5\">\n     <g id=\"line2d_7\">\n      <g>\n       <use xlink:href=\"#m782091ca34\" x=\"298.442625\" y=\"128.637051\" style=\"stroke: #000000; stroke-width: 0.8\"/>\n      </g>\n     </g>\n     <g id=\"text_14\">\n      <!-- 0.6 -->\n      <g transform=\"translate(305.442625 132.43627)scale(0.1 -0.1)\">\n       <defs>\n        <path id=\"DejaVuSans-36\" d=\"M 2113 2584 \nQ 1688 2584 1439 2293 \nQ 1191 2003 1191 1497 \nQ 1191 994 1439 701 \nQ 1688 409 2113 409 \nQ 2538 409 2786 701 \nQ 3034 994 3034 1497 \nQ 3034 2003 2786 2293 \nQ 2538 2584 2113 2584 \nz\nM 3366 4563 \nL 3366 3988 \nQ 3128 4100 2886 4159 \nQ 2644 4219 2406 4219 \nQ 1781 4219 1451 3797 \nQ 1122 3375 1075 2522 \nQ 1259 2794 1537 2939 \nQ 1816 3084 2150 3084 \nQ 2853 3084 3261 2657 \nQ 3669 2231 3669 1497 \nQ 3669 778 3244 343 \nQ 2819 -91 2113 -91 \nQ 1303 -91 875 529 \nQ 447 1150 447 2328 \nQ 447 3434 972 4092 \nQ 1497 4750 2381 4750 \nQ 2619 4750 2861 4703 \nQ 3103 4656 3366 4563 \nz\n\" transform=\"scale(0.015625)\"/>\n       </defs>\n       <use xlink:href=\"#DejaVuSans-30\"/>\n       <use xlink:href=\"#DejaVuSans-2e\" x=\"63.623047\"/>\n       <use xlink:href=\"#DejaVuSans-36\" x=\"95.410156\"/>\n      </g>\n     </g>\n    </g>\n    <g id=\"ytick_6\">\n     <g id=\"line2d_8\">\n      <g>\n       <use xlink:href=\"#m782091ca34\" x=\"298.442625\" y=\"84.951154\" style=\"stroke: #000000; stroke-width: 0.8\"/>\n      </g>\n     </g>\n     <g id=\"text_15\">\n      <!-- 0.8 -->\n      <g transform=\"translate(305.442625 88.750372)scale(0.1 -0.1)\">\n       <use xlink:href=\"#DejaVuSans-30\"/>\n       <use xlink:href=\"#DejaVuSans-2e\" x=\"63.623047\"/>\n       <use xlink:href=\"#DejaVuSans-38\" x=\"95.410156\"/>\n      </g>\n     </g>\n    </g>\n   </g>\n   <g id=\"LineCollection_1\"/>\n   <g id=\"patch_9\">\n    <path d=\"M 287.570625 259.2 \nL 293.006625 259.2 \nL 298.442625 259.2 \nL 298.442625 41.76 \nL 293.006625 41.76 \nL 287.570625 41.76 \nL 287.570625 259.2 \nz\n\" style=\"fill: none; stroke: #000000; stroke-width: 0.8; stroke-linejoin: miter; stroke-linecap: square\"/>\n   </g>\n  </g>\n  <g id=\"text_16\">\n   <!-- All authors -->\n   <g transform=\"translate(127.374375 17.837812)scale(0.14 -0.14)\">\n    <defs>\n     <path id=\"DejaVuSans-6f\" d=\"M 1959 3097 \nQ 1497 3097 1228 2736 \nQ 959 2375 959 1747 \nQ 959 1119 1226 758 \nQ 1494 397 1959 397 \nQ 2419 397 2687 759 \nQ 2956 1122 2956 1747 \nQ 2956 2369 2687 2733 \nQ 2419 3097 1959 3097 \nz\nM 1959 3584 \nQ 2709 3584 3137 3096 \nQ 3566 2609 3566 1747 \nQ 3566 888 3137 398 \nQ 2709 -91 1959 -91 \nQ 1206 -91 779 398 \nQ 353 888 353 1747 \nQ 353 2609 779 3096 \nQ 1206 3584 1959 3584 \nz\n\" transform=\"scale(0.015625)\"/>\n     <path id=\"DejaVuSans-73\" d=\"M 2834 3397 \nL 2834 2853 \nQ 2591 2978 2328 3040 \nQ 2066 3103 1784 3103 \nQ 1356 3103 1142 2972 \nQ 928 2841 928 2578 \nQ 928 2378 1081 2264 \nQ 1234 2150 1697 2047 \nL 1894 2003 \nQ 2506 1872 2764 1633 \nQ 3022 1394 3022 966 \nQ 3022 478 2636 193 \nQ 2250 -91 1575 -91 \nQ 1294 -91 989 -36 \nQ 684 19 347 128 \nL 347 722 \nQ 666 556 975 473 \nQ 1284 391 1588 391 \nQ 1994 391 2212 530 \nQ 2431 669 2431 922 \nQ 2431 1156 2273 1281 \nQ 2116 1406 1581 1522 \nL 1381 1569 \nQ 847 1681 609 1914 \nQ 372 2147 372 2553 \nQ 372 3047 722 3315 \nQ 1072 3584 1716 3584 \nQ 2034 3584 2315 3537 \nQ 2597 3491 2834 3397 \nz\n\" transform=\"scale(0.015625)\"/>\n    </defs>\n    <use xlink:href=\"#DejaVuSans-41\"/>\n    <use xlink:href=\"#DejaVuSans-6c\" x=\"68.408203\"/>\n    <use xlink:href=\"#DejaVuSans-6c\" x=\"96.191406\"/>\n    <use xlink:href=\"#DejaVuSans-20\" x=\"123.974609\"/>\n    <use xlink:href=\"#DejaVuSans-61\" x=\"155.761719\"/>\n    <use xlink:href=\"#DejaVuSans-75\" x=\"217.041016\"/>\n    <use xlink:href=\"#DejaVuSans-74\" x=\"280.419922\"/>\n    <use xlink:href=\"#DejaVuSans-68\" x=\"319.628906\"/>\n    <use xlink:href=\"#DejaVuSans-6f\" x=\"383.007812\"/>\n    <use xlink:href=\"#DejaVuSans-72\" x=\"444.189453\"/>\n    <use xlink:href=\"#DejaVuSans-73\" x=\"485.302734\"/>\n   </g>\n  </g>\n </g>\n <defs>\n  <clipPath id=\"p837986b987\">\n   <rect x=\"53.390625\" y=\"41.76\" width=\"217.44\" height=\"217.44\"/>\n  </clipPath>\n  <clipPath id=\"pb7248d135a\">\n   <rect x=\"287.570625\" y=\"41.76\" width=\"10.872\" height=\"217.44\"/>\n  </clipPath>\n </defs>\n</svg>\n",
      "text/plain": [
       "<Figure size 432x288 with 2 Axes>"
      ]
     },
     "metadata": {
      "needs_background": "light"
     },
     "output_type": "display_data"
    }
   ],
   "source": [
    "palette = sns.color_palette('gist_stern_r', as_cmap=True)\n",
    "classes = [label for label in encoded_labels]\n",
    "title = \"All authors\"\n",
    "\n",
    "disp = ConfusionMatrixDisplay.from_estimator(\n",
    "    gs,\n",
    "    X_test,\n",
    "    y_test,\n",
    "    display_labels=classes,\n",
    "    cmap=plt.cm.Blues,\n",
    "    normalize='true',\n",
    ")\n",
    "\n",
    "plt.suptitle(title, y=1, fontsize=14)\n",
    "disp.ax_.set_title(f\"Accuracy: {gs.best_score_:.3f}\", fontsize=10, pad=8)\n",
    "disp.ax_.tick_params(axis='x');"
   ]
  }
 ],
 "metadata": {
  "kernelspec": {
   "display_name": "Python 3.9.12 ('.venv': venv)",
   "language": "python",
   "name": "python3"
  },
  "language_info": {
   "codemirror_mode": {
    "name": "ipython",
    "version": 3
   },
   "file_extension": ".py",
   "mimetype": "text/x-python",
   "name": "python",
   "nbconvert_exporter": "python",
   "pygments_lexer": "ipython3",
   "version": "3.9.12"
  },
  "orig_nbformat": 4,
  "vscode": {
   "interpreter": {
    "hash": "85161e3f97af1d89b5bbf9c411fd40ac176e886d5678202eef23a49816ba46d1"
   }
  }
 },
 "nbformat": 4,
 "nbformat_minor": 2
}
