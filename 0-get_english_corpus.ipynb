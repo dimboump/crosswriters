{
 "cells": [
  {
   "cell_type": "code",
   "execution_count": 1,
   "metadata": {},
   "outputs": [],
   "source": [
    "import os\n",
    "import glob\n",
    "\n",
    "import pandas as pd\n",
    "import numpy as np\n",
    "from matplotlib import pyplot as plt\n",
    "\n",
    "# Render plots as SVG\n",
    "%config InlineBackend.figure_format = 'svg'"
   ]
  },
  {
   "cell_type": "code",
   "execution_count": 2,
   "metadata": {},
   "outputs": [
    {
     "data": {
      "text/html": [
       "<div>\n",
       "<style scoped>\n",
       "    .dataframe tbody tr th:only-of-type {\n",
       "        vertical-align: middle;\n",
       "    }\n",
       "\n",
       "    .dataframe tbody tr th {\n",
       "        vertical-align: top;\n",
       "    }\n",
       "\n",
       "    .dataframe thead th {\n",
       "        text-align: right;\n",
       "    }\n",
       "</style>\n",
       "<table border=\"1\" class=\"dataframe\">\n",
       "  <thead>\n",
       "    <tr style=\"text-align: right;\">\n",
       "      <th></th>\n",
       "      <th>File name</th>\n",
       "      <th>Author</th>\n",
       "      <th>Title</th>\n",
       "      <th>Publication date</th>\n",
       "      <th>Series  + n°</th>\n",
       "      <th>Editor</th>\n",
       "      <th>Illustrator</th>\n",
       "      <th>Publisher</th>\n",
       "      <th>Place of publication</th>\n",
       "      <th>Intended reader</th>\n",
       "      <th>Source intended reader</th>\n",
       "      <th>Date of debut</th>\n",
       "      <th>Author's birth date</th>\n",
       "      <th>Author's age at time of publication</th>\n",
       "      <th>Author's gender</th>\n",
       "      <th>Country</th>\n",
       "      <th>Comments</th>\n",
       "      <th>English title</th>\n",
       "    </tr>\n",
       "  </thead>\n",
       "  <tbody>\n",
       "    <tr>\n",
       "      <th>729</th>\n",
       "      <td>WOLTZ_alaska_2016</td>\n",
       "      <td>Anna Woltz</td>\n",
       "      <td>Alaska</td>\n",
       "      <td>2016</td>\n",
       "      <td>NaN</td>\n",
       "      <td>NaN</td>\n",
       "      <td>NaN</td>\n",
       "      <td>Querido</td>\n",
       "      <td>Amsterdam</td>\n",
       "      <td>11</td>\n",
       "      <td>website author</td>\n",
       "      <td>1998</td>\n",
       "      <td>1981</td>\n",
       "      <td>35</td>\n",
       "      <td>F</td>\n",
       "      <td>NL</td>\n",
       "      <td>NaN</td>\n",
       "      <td>NaN</td>\n",
       "    </tr>\n",
       "    <tr>\n",
       "      <th>511</th>\n",
       "      <td>VANDERGEEST_spinder_2012</td>\n",
       "      <td>Simon van der Geest</td>\n",
       "      <td>Spinder</td>\n",
       "      <td>2012</td>\n",
       "      <td>NaN</td>\n",
       "      <td>NaN</td>\n",
       "      <td>Karst-Janneke Rogaar</td>\n",
       "      <td>Querido</td>\n",
       "      <td>Amsterdam</td>\n",
       "      <td>10</td>\n",
       "      <td>website author</td>\n",
       "      <td>2009</td>\n",
       "      <td>1978</td>\n",
       "      <td>34</td>\n",
       "      <td>M</td>\n",
       "      <td>NL</td>\n",
       "      <td>NaN</td>\n",
       "      <td>NaN</td>\n",
       "    </tr>\n",
       "    <tr>\n",
       "      <th>639</th>\n",
       "      <td>WILSON_bigdayout_2012</td>\n",
       "      <td>Jacqueline Wilson</td>\n",
       "      <td>Big Day Out</td>\n",
       "      <td>2012</td>\n",
       "      <td>NaN</td>\n",
       "      <td>NaN</td>\n",
       "      <td>Nick Sharratt</td>\n",
       "      <td>Corgi</td>\n",
       "      <td>London</td>\n",
       "      <td>9</td>\n",
       "      <td>ama</td>\n",
       "      <td>1969</td>\n",
       "      <td>1945</td>\n",
       "      <td>67</td>\n",
       "      <td>F</td>\n",
       "      <td>UK</td>\n",
       "      <td>NaN</td>\n",
       "      <td>NaN</td>\n",
       "    </tr>\n",
       "    <tr>\n",
       "      <th>406</th>\n",
       "      <td>MURPHY_theworstwitchsavestheday_2005</td>\n",
       "      <td>Jill Murphy</td>\n",
       "      <td>The Worst Witch Saves the Day</td>\n",
       "      <td>2005</td>\n",
       "      <td>The Worst Witch #5</td>\n",
       "      <td>NaN</td>\n",
       "      <td>Jill Murphy</td>\n",
       "      <td>Puffin</td>\n",
       "      <td>London</td>\n",
       "      <td>8</td>\n",
       "      <td>CBK</td>\n",
       "      <td>1973</td>\n",
       "      <td>1949</td>\n",
       "      <td>56</td>\n",
       "      <td>F</td>\n",
       "      <td>UK</td>\n",
       "      <td>NaN</td>\n",
       "      <td>NaN</td>\n",
       "    </tr>\n",
       "    <tr>\n",
       "      <th>271</th>\n",
       "      <td>GAVIN_dangerbymoonlight_2004</td>\n",
       "      <td>Jamila Gavin</td>\n",
       "      <td>Danger by Moonlight</td>\n",
       "      <td>2004</td>\n",
       "      <td>NaN</td>\n",
       "      <td>NaN</td>\n",
       "      <td>NaN</td>\n",
       "      <td>Egmont</td>\n",
       "      <td>London</td>\n",
       "      <td>7</td>\n",
       "      <td>guardian</td>\n",
       "      <td>1979</td>\n",
       "      <td>1941</td>\n",
       "      <td>63</td>\n",
       "      <td>F</td>\n",
       "      <td>UK</td>\n",
       "      <td>NaN</td>\n",
       "      <td>NaN</td>\n",
       "    </tr>\n",
       "  </tbody>\n",
       "</table>\n",
       "</div>"
      ],
      "text/plain": [
       "                                File name               Author  \\\n",
       "729                     WOLTZ_alaska_2016           Anna Woltz   \n",
       "511              VANDERGEEST_spinder_2012  Simon van der Geest   \n",
       "639                 WILSON_bigdayout_2012    Jacqueline Wilson   \n",
       "406  MURPHY_theworstwitchsavestheday_2005          Jill Murphy   \n",
       "271          GAVIN_dangerbymoonlight_2004         Jamila Gavin   \n",
       "\n",
       "                             Title  Publication date        Series  + n°  \\\n",
       "729                         Alaska              2016                 NaN   \n",
       "511                        Spinder              2012                 NaN   \n",
       "639                    Big Day Out              2012                 NaN   \n",
       "406  The Worst Witch Saves the Day              2005  The Worst Witch #5   \n",
       "271            Danger by Moonlight              2004                 NaN   \n",
       "\n",
       "    Editor           Illustrator Publisher Place of publication  \\\n",
       "729    NaN                   NaN   Querido            Amsterdam   \n",
       "511    NaN  Karst-Janneke Rogaar   Querido            Amsterdam   \n",
       "639    NaN         Nick Sharratt     Corgi               London   \n",
       "406    NaN           Jill Murphy    Puffin               London   \n",
       "271    NaN                   NaN    Egmont               London   \n",
       "\n",
       "    Intended reader Source intended reader  Date of debut  \\\n",
       "729              11         website author           1998   \n",
       "511              10         website author           2009   \n",
       "639               9                    ama           1969   \n",
       "406               8                    CBK           1973   \n",
       "271               7               guardian           1979   \n",
       "\n",
       "     Author's birth date  Author's age at time of publication Author's gender  \\\n",
       "729                 1981                                   35               F   \n",
       "511                 1978                                   34               M   \n",
       "639                 1945                                   67               F   \n",
       "406                 1949                                   56               F   \n",
       "271                 1941                                   63               F   \n",
       "\n",
       "    Country Comments English title  \n",
       "729      NL      NaN           NaN  \n",
       "511      NL      NaN           NaN  \n",
       "639      UK      NaN           NaN  \n",
       "406      UK      NaN           NaN  \n",
       "271      UK      NaN           NaN  "
      ]
     },
     "execution_count": 2,
     "metadata": {},
     "output_type": "execute_result"
    }
   ],
   "source": [
    "meta = pd.read_excel('data/metadata.xlsx')\n",
    "meta.sample(5)"
   ]
  },
  {
   "cell_type": "code",
   "execution_count": 3,
   "metadata": {},
   "outputs": [
    {
     "data": {
      "text/plain": [
       "(753, 18)"
      ]
     },
     "execution_count": 3,
     "metadata": {},
     "output_type": "execute_result"
    }
   ],
   "source": [
    "meta.shape"
   ]
  },
  {
   "cell_type": "code",
   "execution_count": 4,
   "metadata": {},
   "outputs": [
    {
     "name": "stdout",
     "output_type": "stream",
     "text": [
      "<class 'pandas.core.frame.DataFrame'>\n",
      "RangeIndex: 753 entries, 0 to 752\n",
      "Data columns (total 18 columns):\n",
      " #   Column                               Non-Null Count  Dtype \n",
      "---  ------                               --------------  ----- \n",
      " 0   File name                            753 non-null    object\n",
      " 1   Author                               753 non-null    object\n",
      " 2   Title                                753 non-null    object\n",
      " 3   Publication date                     753 non-null    int64 \n",
      " 4   Series  + n°                         167 non-null    object\n",
      " 5   Editor                               1 non-null      object\n",
      " 6   Illustrator                          410 non-null    object\n",
      " 7   Publisher                            741 non-null    object\n",
      " 8   Place of publication                 739 non-null    object\n",
      " 9   Intended reader                      753 non-null    object\n",
      " 10  Source intended reader               643 non-null    object\n",
      " 11  Date of debut                        753 non-null    int64 \n",
      " 12  Author's birth date                  753 non-null    int64 \n",
      " 13  Author's age at time of publication  753 non-null    int64 \n",
      " 14  Author's gender                      753 non-null    object\n",
      " 15  Country                              749 non-null    object\n",
      " 16  Comments                             81 non-null     object\n",
      " 17  English title                        5 non-null      object\n",
      "dtypes: int64(4), object(14)\n",
      "memory usage: 106.0+ KB\n"
     ]
    }
   ],
   "source": [
    "meta.info()"
   ]
  },
  {
   "cell_type": "code",
   "execution_count": 5,
   "metadata": {},
   "outputs": [
    {
     "data": {
      "text/plain": [
       "'596.49 KB'"
      ]
     },
     "execution_count": 5,
     "metadata": {},
     "output_type": "execute_result"
    }
   ],
   "source": [
    "memory_before = meta.memory_usage(deep=True).sum() / 1024\n",
    "f'{memory_before:.2f} KB'"
   ]
  },
  {
   "cell_type": "markdown",
   "metadata": {},
   "source": [
    "## Cleaning up the dataset\n",
    "\n",
    "(following [Matt Harrison's](https://twitter.com/__mharrison__) 'chaining' approach to Pandas)"
   ]
  },
  {
   "cell_type": "code",
   "execution_count": 6,
   "metadata": {},
   "outputs": [
    {
     "data": {
      "text/html": [
       "<div>\n",
       "<style scoped>\n",
       "    .dataframe tbody tr th:only-of-type {\n",
       "        vertical-align: middle;\n",
       "    }\n",
       "\n",
       "    .dataframe tbody tr th {\n",
       "        vertical-align: top;\n",
       "    }\n",
       "\n",
       "    .dataframe thead th {\n",
       "        text-align: right;\n",
       "    }\n",
       "</style>\n",
       "<table border=\"1\" class=\"dataframe\">\n",
       "  <thead>\n",
       "    <tr style=\"text-align: right;\">\n",
       "      <th></th>\n",
       "      <th>file_name</th>\n",
       "      <th>author</th>\n",
       "      <th>title</th>\n",
       "      <th>pub_year</th>\n",
       "      <th>intended_reader</th>\n",
       "      <th>author_age_pub</th>\n",
       "      <th>author_gender</th>\n",
       "      <th>country</th>\n",
       "    </tr>\n",
       "  </thead>\n",
       "  <tbody>\n",
       "    <tr>\n",
       "      <th>70</th>\n",
       "      <td>BLACKMAN_pigheartboy_1997</td>\n",
       "      <td>Malorie Blackman</td>\n",
       "      <td>Pig Heart Boy</td>\n",
       "      <td>1997</td>\n",
       "      <td>9</td>\n",
       "      <td>35</td>\n",
       "      <td>F</td>\n",
       "      <td>UK</td>\n",
       "    </tr>\n",
       "    <tr>\n",
       "      <th>56</th>\n",
       "      <td>BLACKMAN_hacker_1992</td>\n",
       "      <td>Malorie Blackman</td>\n",
       "      <td>Hacker</td>\n",
       "      <td>1992</td>\n",
       "      <td>9</td>\n",
       "      <td>30</td>\n",
       "      <td>F</td>\n",
       "      <td>UK</td>\n",
       "    </tr>\n",
       "    <tr>\n",
       "      <th>487</th>\n",
       "      <td>ROWLING_thecuckooscalling_2013</td>\n",
       "      <td>J.K. Rowling</td>\n",
       "      <td>The Cuckoo's Calling</td>\n",
       "      <td>2013</td>\n",
       "      <td>18</td>\n",
       "      <td>48</td>\n",
       "      <td>F</td>\n",
       "      <td>UK</td>\n",
       "    </tr>\n",
       "    <tr>\n",
       "      <th>425</th>\n",
       "      <td>PULLMAN_iwasarat_1999</td>\n",
       "      <td>Philip Pullman</td>\n",
       "      <td>I was a Rat!</td>\n",
       "      <td>1999</td>\n",
       "      <td>9</td>\n",
       "      <td>53</td>\n",
       "      <td>M</td>\n",
       "      <td>UK</td>\n",
       "    </tr>\n",
       "    <tr>\n",
       "      <th>150</th>\n",
       "      <td>FINE_holeintheroad_2014</td>\n",
       "      <td>Anne Fine</td>\n",
       "      <td>Hole in the Road</td>\n",
       "      <td>2014</td>\n",
       "      <td>9</td>\n",
       "      <td>67</td>\n",
       "      <td>F</td>\n",
       "      <td>UK</td>\n",
       "    </tr>\n",
       "    <tr>\n",
       "      <th>663</th>\n",
       "      <td>WILSON_jackydaydream_2007</td>\n",
       "      <td>Jacqueline Wilson</td>\n",
       "      <td>Jacky Daydream</td>\n",
       "      <td>2007</td>\n",
       "      <td>9</td>\n",
       "      <td>62</td>\n",
       "      <td>F</td>\n",
       "      <td>UK</td>\n",
       "    </tr>\n",
       "    <tr>\n",
       "      <th>128</th>\n",
       "      <td>FINE_apackofliars_1988</td>\n",
       "      <td>Anne Fine</td>\n",
       "      <td>A Pack of Liars</td>\n",
       "      <td>1988</td>\n",
       "      <td>9</td>\n",
       "      <td>41</td>\n",
       "      <td>F</td>\n",
       "      <td>UK</td>\n",
       "    </tr>\n",
       "    <tr>\n",
       "      <th>48</th>\n",
       "      <td>BLACKMAN_elaineyoureabrat_1991</td>\n",
       "      <td>Malorie Blackman</td>\n",
       "      <td>Elaine You're a Brat</td>\n",
       "      <td>1991</td>\n",
       "      <td>5</td>\n",
       "      <td>29</td>\n",
       "      <td>F</td>\n",
       "      <td>UK</td>\n",
       "    </tr>\n",
       "    <tr>\n",
       "      <th>691</th>\n",
       "      <td>WILSON_secrets_2002</td>\n",
       "      <td>Jacqueline Wilson</td>\n",
       "      <td>Secrets</td>\n",
       "      <td>2002</td>\n",
       "      <td>9</td>\n",
       "      <td>57</td>\n",
       "      <td>F</td>\n",
       "      <td>UK</td>\n",
       "    </tr>\n",
       "    <tr>\n",
       "      <th>489</th>\n",
       "      <td>ROWLING_thesilkworm_2014</td>\n",
       "      <td>J.K. Rowling</td>\n",
       "      <td>The Silkworm</td>\n",
       "      <td>2014</td>\n",
       "      <td>18</td>\n",
       "      <td>49</td>\n",
       "      <td>F</td>\n",
       "      <td>UK</td>\n",
       "    </tr>\n",
       "  </tbody>\n",
       "</table>\n",
       "</div>"
      ],
      "text/plain": [
       "                          file_name             author                 title  \\\n",
       "70        BLACKMAN_pigheartboy_1997   Malorie Blackman         Pig Heart Boy   \n",
       "56             BLACKMAN_hacker_1992   Malorie Blackman                Hacker   \n",
       "487  ROWLING_thecuckooscalling_2013       J.K. Rowling  The Cuckoo's Calling   \n",
       "425           PULLMAN_iwasarat_1999     Philip Pullman          I was a Rat!   \n",
       "150         FINE_holeintheroad_2014          Anne Fine      Hole in the Road   \n",
       "663       WILSON_jackydaydream_2007  Jacqueline Wilson        Jacky Daydream   \n",
       "128          FINE_apackofliars_1988          Anne Fine       A Pack of Liars   \n",
       "48   BLACKMAN_elaineyoureabrat_1991   Malorie Blackman  Elaine You're a Brat   \n",
       "691             WILSON_secrets_2002  Jacqueline Wilson               Secrets   \n",
       "489        ROWLING_thesilkworm_2014       J.K. Rowling          The Silkworm   \n",
       "\n",
       "     pub_year  intended_reader  author_age_pub author_gender country  \n",
       "70       1997                9              35             F      UK  \n",
       "56       1992                9              30             F      UK  \n",
       "487      2013               18              48             F      UK  \n",
       "425      1999                9              53             M      UK  \n",
       "150      2014                9              67             F      UK  \n",
       "663      2007                9              62             F      UK  \n",
       "128      1988                9              41             F      UK  \n",
       "48       1991                5              29             F      UK  \n",
       "691      2002                9              57             F      UK  \n",
       "489      2014               18              49             F      UK  "
      ]
     },
     "execution_count": 6,
     "metadata": {},
     "output_type": "execute_result"
    }
   ],
   "source": [
    "meta = (\n",
    "    meta\n",
    "    .rename(lambda x: x.replace(' ', '_').lower(), axis=1)\n",
    "    .rename(columns={'publication_date': 'pub_year', \"author's_age_at_time_of_publication\": 'author_age_pub', \"author's_gender\": 'author_gender'})\n",
    "    .loc[:, ['file_name', 'author', 'title', 'pub_year', 'intended_reader', 'author_age_pub', 'author_gender', 'country']]\n",
    "    .dropna(axis=0, how='any')\n",
    "    .query(\n",
    "        \"country == 'UK' & \\\n",
    "        intended_reader != '-' & \\\n",
    "        author.str.contains('/') == False\"\n",
    "    )\n",
    "    .astype({\n",
    "        'author': 'category',\n",
    "        'intended_reader': int,\n",
    "        'author_gender': 'category'\n",
    "    })\n",
    ")\n",
    "\n",
    "meta.sample(10)"
   ]
  },
  {
   "cell_type": "code",
   "execution_count": 7,
   "metadata": {},
   "outputs": [],
   "source": [
    "meta = (meta\n",
    "    .assign(reader_age_group=np.where(meta['intended_reader'] == 18, 'adult' , 'child'))\n",
    "    .astype({'reader_age_group': 'category'})\n",
    "    .drop(['country', 'intended_reader'], axis=1)\n",
    ")"
   ]
  },
  {
   "cell_type": "code",
   "execution_count": 8,
   "metadata": {},
   "outputs": [
    {
     "data": {
      "text/plain": [
       "(327, 7)"
      ]
     },
     "execution_count": 8,
     "metadata": {},
     "output_type": "execute_result"
    }
   ],
   "source": [
    "meta.shape"
   ]
  },
  {
   "cell_type": "code",
   "execution_count": 9,
   "metadata": {},
   "outputs": [
    {
     "data": {
      "text/plain": [
       "'61.35 KB'"
      ]
     },
     "execution_count": 9,
     "metadata": {},
     "output_type": "execute_result"
    }
   ],
   "source": [
    "memory_after = meta.memory_usage(deep=True).sum() / 1024\n",
    "f'{memory_after:.2f} KB'"
   ]
  },
  {
   "cell_type": "code",
   "execution_count": 10,
   "metadata": {},
   "outputs": [
    {
     "name": "stdout",
     "output_type": "stream",
     "text": [
      "535.15 KB\n"
     ]
    }
   ],
   "source": [
    "# memory difference\n",
    "print(f'{abs(memory_after - memory_before):.2f} KB')"
   ]
  },
  {
   "cell_type": "code",
   "execution_count": 11,
   "metadata": {},
   "outputs": [
    {
     "data": {
      "text/plain": [
       "reader_age_group                      \n",
       "adult             Aidan Chambers           0\n",
       "                  Anne Fine                9\n",
       "                  David Almond             2\n",
       "                  Frank Cottrell-Boyce     0\n",
       "                  J.K. Rowling             6\n",
       "                  Jacqueline Wilson        0\n",
       "                  Jamila Gavin             0\n",
       "                  Jill Murphy              0\n",
       "                  Malorie Blackman         0\n",
       "                  Neil Gaiman              6\n",
       "                  Philip Pullman           3\n",
       "child             Aidan Chambers          11\n",
       "                  Anne Fine               74\n",
       "                  David Almond            22\n",
       "                  Frank Cottrell-Boyce    13\n",
       "                  J.K. Rowling             8\n",
       "                  Jacqueline Wilson       69\n",
       "                  Jamila Gavin            13\n",
       "                  Jill Murphy             10\n",
       "                  Malorie Blackman        50\n",
       "                  Neil Gaiman              8\n",
       "                  Philip Pullman          23\n",
       "Name: author, dtype: int64"
      ]
     },
     "execution_count": 11,
     "metadata": {},
     "output_type": "execute_result"
    }
   ],
   "source": [
    "meta.groupby('reader_age_group')['author'].value_counts(sort=False)"
   ]
  },
  {
   "cell_type": "code",
   "execution_count": 12,
   "metadata": {},
   "outputs": [
    {
     "data": {
      "text/plain": [
       "adult     26\n",
       "child    301\n",
       "Name: reader_age_group, dtype: int64"
      ]
     },
     "execution_count": 12,
     "metadata": {},
     "output_type": "execute_result"
    }
   ],
   "source": [
    "meta['reader_age_group'].value_counts(sort=False)"
   ]
  }
 ],
 "metadata": {
  "kernelspec": {
   "display_name": "Python 3.9.12 ('.venv': venv)",
   "language": "python",
   "name": "python3"
  },
  "language_info": {
   "codemirror_mode": {
    "name": "ipython",
    "version": 3
   },
   "file_extension": ".py",
   "mimetype": "text/x-python",
   "name": "python",
   "nbconvert_exporter": "python",
   "pygments_lexer": "ipython3",
   "version": "3.9.12"
  },
  "orig_nbformat": 4,
  "vscode": {
   "interpreter": {
    "hash": "85161e3f97af1d89b5bbf9c411fd40ac176e886d5678202eef23a49816ba46d1"
   }
  }
 },
 "nbformat": 4,
 "nbformat_minor": 2
}
