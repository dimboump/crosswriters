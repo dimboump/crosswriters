{
 "cells": [
  {
   "cell_type": "code",
   "execution_count": 1,
   "metadata": {},
   "outputs": [],
   "source": [
    "import os\n",
    "import glob\n",
    "\n",
    "import pandas as pd\n",
    "import numpy as np\n",
    "from matplotlib import pyplot as plt\n",
    "\n",
    "# Render plots as SVG\n",
    "%config InlineBackend.figure_format = 'svg'"
   ]
  },
  {
   "cell_type": "code",
   "execution_count": 2,
   "metadata": {},
   "outputs": [
    {
     "data": {
      "text/html": [
       "<div>\n",
       "<style scoped>\n",
       "    .dataframe tbody tr th:only-of-type {\n",
       "        vertical-align: middle;\n",
       "    }\n",
       "\n",
       "    .dataframe tbody tr th {\n",
       "        vertical-align: top;\n",
       "    }\n",
       "\n",
       "    .dataframe thead th {\n",
       "        text-align: right;\n",
       "    }\n",
       "</style>\n",
       "<table border=\"1\" class=\"dataframe\">\n",
       "  <thead>\n",
       "    <tr style=\"text-align: right;\">\n",
       "      <th></th>\n",
       "      <th>File name</th>\n",
       "      <th>Author</th>\n",
       "      <th>Title</th>\n",
       "      <th>Publication date</th>\n",
       "      <th>Series  + n°</th>\n",
       "      <th>Editor</th>\n",
       "      <th>Illustrator</th>\n",
       "      <th>Publisher</th>\n",
       "      <th>Place of publication</th>\n",
       "      <th>Intended reader</th>\n",
       "      <th>Source intended reader</th>\n",
       "      <th>Date of debut</th>\n",
       "      <th>Author's birth date</th>\n",
       "      <th>Author's age at time of publication</th>\n",
       "      <th>Author's gender</th>\n",
       "      <th>Country</th>\n",
       "      <th>Comments</th>\n",
       "      <th>English title</th>\n",
       "    </tr>\n",
       "  </thead>\n",
       "  <tbody>\n",
       "    <tr>\n",
       "      <th>111</th>\n",
       "      <td>COTTRELL-BOYCE_runawayrobot_2019</td>\n",
       "      <td>Frank Cottrell-Boyce</td>\n",
       "      <td>Runaway Robot</td>\n",
       "      <td>2019</td>\n",
       "      <td>NaN</td>\n",
       "      <td>NaN</td>\n",
       "      <td>Steven Lenton</td>\n",
       "      <td>Macmillan</td>\n",
       "      <td>London</td>\n",
       "      <td>9</td>\n",
       "      <td>amazon</td>\n",
       "      <td>2004</td>\n",
       "      <td>1959</td>\n",
       "      <td>60</td>\n",
       "      <td>M</td>\n",
       "      <td>UK</td>\n",
       "      <td>NaN</td>\n",
       "      <td>NaN</td>\n",
       "    </tr>\n",
       "    <tr>\n",
       "      <th>728</th>\n",
       "      <td>WOLTZ_aangespoeld_2007</td>\n",
       "      <td>Anna Woltz</td>\n",
       "      <td>Aangespoeld</td>\n",
       "      <td>2007</td>\n",
       "      <td>NaN</td>\n",
       "      <td>NaN</td>\n",
       "      <td>NaN</td>\n",
       "      <td>Leopold</td>\n",
       "      <td>Amsterdam</td>\n",
       "      <td>10</td>\n",
       "      <td>website author</td>\n",
       "      <td>1998</td>\n",
       "      <td>1981</td>\n",
       "      <td>26</td>\n",
       "      <td>F</td>\n",
       "      <td>NL</td>\n",
       "      <td>NaN</td>\n",
       "      <td>NaN</td>\n",
       "    </tr>\n",
       "    <tr>\n",
       "      <th>575</th>\n",
       "      <td>VANDEVENDEL_sofieenhetijsbeertje_2013</td>\n",
       "      <td>Edward van de Vendel</td>\n",
       "      <td>Sofie en het ijsbeertje</td>\n",
       "      <td>2013</td>\n",
       "      <td>Sofie#3</td>\n",
       "      <td>NaN</td>\n",
       "      <td>Floor de Goede</td>\n",
       "      <td>Querido</td>\n",
       "      <td>Amsterdam</td>\n",
       "      <td>8</td>\n",
       "      <td>website author</td>\n",
       "      <td>1996</td>\n",
       "      <td>1964</td>\n",
       "      <td>49</td>\n",
       "      <td>M</td>\n",
       "      <td>NL</td>\n",
       "      <td>NaN</td>\n",
       "      <td>NaN</td>\n",
       "    </tr>\n",
       "    <tr>\n",
       "      <th>210</th>\n",
       "      <td>FRANCK_amerikaofdenoordpool_1990</td>\n",
       "      <td>Ed Franck</td>\n",
       "      <td>Amerika of de Noordpool</td>\n",
       "      <td>1990</td>\n",
       "      <td>NaN</td>\n",
       "      <td>NaN</td>\n",
       "      <td>Gerda Dendooven</td>\n",
       "      <td>Clavis</td>\n",
       "      <td>Hasselt</td>\n",
       "      <td>9</td>\n",
       "      <td>CBK</td>\n",
       "      <td>1985</td>\n",
       "      <td>1941</td>\n",
       "      <td>49</td>\n",
       "      <td>M</td>\n",
       "      <td>VL</td>\n",
       "      <td>NaN</td>\n",
       "      <td>NaN</td>\n",
       "    </tr>\n",
       "    <tr>\n",
       "      <th>659</th>\n",
       "      <td>WILSON_hettyfeather_2009</td>\n",
       "      <td>Jacqueline Wilson</td>\n",
       "      <td>Hetty Feather</td>\n",
       "      <td>2009</td>\n",
       "      <td>Hetty Feather #1</td>\n",
       "      <td>NaN</td>\n",
       "      <td>Nick Sharratt</td>\n",
       "      <td>Doubleday</td>\n",
       "      <td>London</td>\n",
       "      <td>9</td>\n",
       "      <td>website author</td>\n",
       "      <td>1969</td>\n",
       "      <td>1945</td>\n",
       "      <td>64</td>\n",
       "      <td>F</td>\n",
       "      <td>UK</td>\n",
       "      <td>NaN</td>\n",
       "      <td>NaN</td>\n",
       "    </tr>\n",
       "  </tbody>\n",
       "</table>\n",
       "</div>"
      ],
      "text/plain": [
       "                                 File name                Author  \\\n",
       "111       COTTRELL-BOYCE_runawayrobot_2019  Frank Cottrell-Boyce   \n",
       "728                 WOLTZ_aangespoeld_2007            Anna Woltz   \n",
       "575  VANDEVENDEL_sofieenhetijsbeertje_2013  Edward van de Vendel   \n",
       "210       FRANCK_amerikaofdenoordpool_1990             Ed Franck   \n",
       "659               WILSON_hettyfeather_2009     Jacqueline Wilson   \n",
       "\n",
       "                       Title  Publication date      Series  + n° Editor  \\\n",
       "111            Runaway Robot              2019               NaN    NaN   \n",
       "728              Aangespoeld              2007               NaN    NaN   \n",
       "575  Sofie en het ijsbeertje              2013           Sofie#3    NaN   \n",
       "210  Amerika of de Noordpool              1990               NaN    NaN   \n",
       "659            Hetty Feather              2009  Hetty Feather #1    NaN   \n",
       "\n",
       "         Illustrator  Publisher Place of publication Intended reader  \\\n",
       "111    Steven Lenton  Macmillan               London               9   \n",
       "728              NaN    Leopold            Amsterdam              10   \n",
       "575   Floor de Goede    Querido            Amsterdam               8   \n",
       "210  Gerda Dendooven     Clavis              Hasselt               9   \n",
       "659    Nick Sharratt  Doubleday               London               9   \n",
       "\n",
       "    Source intended reader  Date of debut  Author's birth date  \\\n",
       "111                 amazon           2004                 1959   \n",
       "728         website author           1998                 1981   \n",
       "575         website author           1996                 1964   \n",
       "210                    CBK           1985                 1941   \n",
       "659         website author           1969                 1945   \n",
       "\n",
       "     Author's age at time of publication Author's gender Country Comments  \\\n",
       "111                                   60               M      UK      NaN   \n",
       "728                                   26               F      NL      NaN   \n",
       "575                                   49               M      NL      NaN   \n",
       "210                                   49               M      VL      NaN   \n",
       "659                                   64               F      UK      NaN   \n",
       "\n",
       "    English title  \n",
       "111           NaN  \n",
       "728           NaN  \n",
       "575           NaN  \n",
       "210           NaN  \n",
       "659           NaN  "
      ]
     },
     "execution_count": 2,
     "metadata": {},
     "output_type": "execute_result"
    }
   ],
   "source": [
    "meta = pd.read_excel('data/metadata.xlsx')\n",
    "meta.sample(5)"
   ]
  },
  {
   "cell_type": "code",
   "execution_count": 3,
   "metadata": {},
   "outputs": [
    {
     "data": {
      "text/plain": [
       "(753, 18)"
      ]
     },
     "execution_count": 3,
     "metadata": {},
     "output_type": "execute_result"
    }
   ],
   "source": [
    "meta.shape"
   ]
  },
  {
   "cell_type": "code",
   "execution_count": 4,
   "metadata": {},
   "outputs": [
    {
     "name": "stdout",
     "output_type": "stream",
     "text": [
      "<class 'pandas.core.frame.DataFrame'>\n",
      "RangeIndex: 753 entries, 0 to 752\n",
      "Data columns (total 18 columns):\n",
      " #   Column                               Non-Null Count  Dtype \n",
      "---  ------                               --------------  ----- \n",
      " 0   File name                            753 non-null    object\n",
      " 1   Author                               753 non-null    object\n",
      " 2   Title                                753 non-null    object\n",
      " 3   Publication date                     753 non-null    int64 \n",
      " 4   Series  + n°                         167 non-null    object\n",
      " 5   Editor                               1 non-null      object\n",
      " 6   Illustrator                          410 non-null    object\n",
      " 7   Publisher                            741 non-null    object\n",
      " 8   Place of publication                 739 non-null    object\n",
      " 9   Intended reader                      753 non-null    object\n",
      " 10  Source intended reader               643 non-null    object\n",
      " 11  Date of debut                        753 non-null    int64 \n",
      " 12  Author's birth date                  753 non-null    int64 \n",
      " 13  Author's age at time of publication  753 non-null    int64 \n",
      " 14  Author's gender                      753 non-null    object\n",
      " 15  Country                              749 non-null    object\n",
      " 16  Comments                             81 non-null     object\n",
      " 17  English title                        5 non-null      object\n",
      "dtypes: int64(4), object(14)\n",
      "memory usage: 106.0+ KB\n"
     ]
    }
   ],
   "source": [
    "meta.info()"
   ]
  },
  {
   "cell_type": "code",
   "execution_count": 5,
   "metadata": {},
   "outputs": [
    {
     "data": {
      "text/plain": [
       "'596.49 KB'"
      ]
     },
     "execution_count": 5,
     "metadata": {},
     "output_type": "execute_result"
    }
   ],
   "source": [
    "memory_before = meta.memory_usage(deep=True).sum() / 1024\n",
    "f'{memory_before:.2f} KB'"
   ]
  },
  {
   "cell_type": "markdown",
   "metadata": {},
   "source": [
    "## Cleaning up the dataset\n",
    "\n",
    "(following [Matt Harrison's](https://twitter.com/__mharrison__) 'chaining' approach to Pandas)"
   ]
  },
  {
   "cell_type": "code",
   "execution_count": 6,
   "metadata": {},
   "outputs": [
    {
     "data": {
      "text/html": [
       "<div>\n",
       "<style scoped>\n",
       "    .dataframe tbody tr th:only-of-type {\n",
       "        vertical-align: middle;\n",
       "    }\n",
       "\n",
       "    .dataframe tbody tr th {\n",
       "        vertical-align: top;\n",
       "    }\n",
       "\n",
       "    .dataframe thead th {\n",
       "        text-align: right;\n",
       "    }\n",
       "</style>\n",
       "<table border=\"1\" class=\"dataframe\">\n",
       "  <thead>\n",
       "    <tr style=\"text-align: right;\">\n",
       "      <th></th>\n",
       "      <th>file_name</th>\n",
       "      <th>author</th>\n",
       "      <th>title</th>\n",
       "      <th>pub_year</th>\n",
       "      <th>intended_reader</th>\n",
       "      <th>author_age_pub</th>\n",
       "      <th>author_gender</th>\n",
       "    </tr>\n",
       "  </thead>\n",
       "  <tbody>\n",
       "    <tr>\n",
       "      <th>402</th>\n",
       "      <td>MURPHY_jeffreystrangeways_1992</td>\n",
       "      <td>Jill Murphy</td>\n",
       "      <td>Jeffrey Strangeways</td>\n",
       "      <td>1992</td>\n",
       "      <td>8</td>\n",
       "      <td>43</td>\n",
       "      <td>F</td>\n",
       "    </tr>\n",
       "    <tr>\n",
       "      <th>434</th>\n",
       "      <td>PULLMAN_thebrokenbridge_1990</td>\n",
       "      <td>Philip Pullman</td>\n",
       "      <td>The Broken Bridge</td>\n",
       "      <td>1990</td>\n",
       "      <td>12</td>\n",
       "      <td>44</td>\n",
       "      <td>M</td>\n",
       "    </tr>\n",
       "    <tr>\n",
       "      <th>154</th>\n",
       "      <td>FINE_incolddomain_1994</td>\n",
       "      <td>Anne Fine</td>\n",
       "      <td>In Cold Domain</td>\n",
       "      <td>1994</td>\n",
       "      <td>18</td>\n",
       "      <td>47</td>\n",
       "      <td>F</td>\n",
       "    </tr>\n",
       "    <tr>\n",
       "      <th>653</th>\n",
       "      <td>WILSON_fallingapart_1989</td>\n",
       "      <td>Jacqueline Wilson</td>\n",
       "      <td>Falling Apart</td>\n",
       "      <td>1989</td>\n",
       "      <td>15</td>\n",
       "      <td>44</td>\n",
       "      <td>F</td>\n",
       "    </tr>\n",
       "    <tr>\n",
       "      <th>141</th>\n",
       "      <td>FINE_crummymummyandme_1988</td>\n",
       "      <td>Anne Fine</td>\n",
       "      <td>Crummy Mummy and Me</td>\n",
       "      <td>1988</td>\n",
       "      <td>9</td>\n",
       "      <td>41</td>\n",
       "      <td>F</td>\n",
       "    </tr>\n",
       "    <tr>\n",
       "      <th>162</th>\n",
       "      <td>FINE_madamedoubtfire_1987</td>\n",
       "      <td>Anne Fine</td>\n",
       "      <td>Madame Doubtfire</td>\n",
       "      <td>1987</td>\n",
       "      <td>9</td>\n",
       "      <td>40</td>\n",
       "      <td>F</td>\n",
       "    </tr>\n",
       "    <tr>\n",
       "      <th>409</th>\n",
       "      <td>MURPHY_worldsapart_1988</td>\n",
       "      <td>Jill Murphy</td>\n",
       "      <td>Worlds Apart</td>\n",
       "      <td>1988</td>\n",
       "      <td>9</td>\n",
       "      <td>39</td>\n",
       "      <td>F</td>\n",
       "    </tr>\n",
       "    <tr>\n",
       "      <th>31</th>\n",
       "      <td>ALMOND_warisover_2018</td>\n",
       "      <td>David Almond</td>\n",
       "      <td>War is Over</td>\n",
       "      <td>2018</td>\n",
       "      <td>9</td>\n",
       "      <td>67</td>\n",
       "      <td>M</td>\n",
       "    </tr>\n",
       "    <tr>\n",
       "      <th>81</th>\n",
       "      <td>BLACKMAN_themonstercrispguzzler_2002</td>\n",
       "      <td>Malorie Blackman</td>\n",
       "      <td>The Monster Crisp-Guzzler</td>\n",
       "      <td>2002</td>\n",
       "      <td>5</td>\n",
       "      <td>40</td>\n",
       "      <td>F</td>\n",
       "    </tr>\n",
       "    <tr>\n",
       "      <th>147</th>\n",
       "      <td>FINE_frozenbilly_2004</td>\n",
       "      <td>Anne Fine</td>\n",
       "      <td>Frozen Billy</td>\n",
       "      <td>2004</td>\n",
       "      <td>9</td>\n",
       "      <td>57</td>\n",
       "      <td>F</td>\n",
       "    </tr>\n",
       "  </tbody>\n",
       "</table>\n",
       "</div>"
      ],
      "text/plain": [
       "                                file_name             author  \\\n",
       "402        MURPHY_jeffreystrangeways_1992        Jill Murphy   \n",
       "434          PULLMAN_thebrokenbridge_1990     Philip Pullman   \n",
       "154                FINE_incolddomain_1994          Anne Fine   \n",
       "653              WILSON_fallingapart_1989  Jacqueline Wilson   \n",
       "141            FINE_crummymummyandme_1988          Anne Fine   \n",
       "162             FINE_madamedoubtfire_1987          Anne Fine   \n",
       "409               MURPHY_worldsapart_1988        Jill Murphy   \n",
       "31                  ALMOND_warisover_2018       David Almond   \n",
       "81   BLACKMAN_themonstercrispguzzler_2002   Malorie Blackman   \n",
       "147                 FINE_frozenbilly_2004          Anne Fine   \n",
       "\n",
       "                         title  pub_year intended_reader  author_age_pub  \\\n",
       "402        Jeffrey Strangeways      1992               8              43   \n",
       "434          The Broken Bridge      1990              12              44   \n",
       "154             In Cold Domain      1994              18              47   \n",
       "653              Falling Apart      1989              15              44   \n",
       "141        Crummy Mummy and Me      1988               9              41   \n",
       "162           Madame Doubtfire      1987               9              40   \n",
       "409               Worlds Apart      1988               9              39   \n",
       "31                 War is Over      2018               9              67   \n",
       "81   The Monster Crisp-Guzzler      2002               5              40   \n",
       "147               Frozen Billy      2004               9              57   \n",
       "\n",
       "    author_gender  \n",
       "402             F  \n",
       "434             M  \n",
       "154             F  \n",
       "653             F  \n",
       "141             F  \n",
       "162             F  \n",
       "409             F  \n",
       "31              M  \n",
       "81              F  \n",
       "147             F  "
      ]
     },
     "execution_count": 6,
     "metadata": {},
     "output_type": "execute_result"
    }
   ],
   "source": [
    "meta = (\n",
    "    meta\n",
    "    .rename(lambda x: x.replace(' ', '_').lower(), axis=1)\n",
    "    .rename(columns={'publication_date': 'pub_year', \"author's_age_at_time_of_publication\": 'author_age_pub', \"author's_gender\": 'author_gender'})\n",
    "    .loc[:, ['file_name', 'author', 'title', 'pub_year', 'intended_reader', 'author_age_pub', 'author_gender', 'country']]\n",
    "    .dropna(axis=0, how='any')\n",
    "    .query(\"country == 'UK' & intended_reader != '-'\")\n",
    "    .astype({\n",
    "        'author': 'category',\n",
    "        'intended_reader': 'category',\n",
    "        'author_gender': 'category'\n",
    "    })\n",
    "    .drop(['country'], axis=1)\n",
    ")\n",
    "\n",
    "meta.sample(10)"
   ]
  },
  {
   "cell_type": "code",
   "execution_count": 8,
   "metadata": {},
   "outputs": [
    {
     "data": {
      "text/plain": [
       "(331, 7)"
      ]
     },
     "execution_count": 8,
     "metadata": {},
     "output_type": "execute_result"
    }
   ],
   "source": [
    "meta.shape"
   ]
  },
  {
   "cell_type": "code",
   "execution_count": 7,
   "metadata": {},
   "outputs": [
    {
     "data": {
      "text/plain": [
       "'62.63 KB'"
      ]
     },
     "execution_count": 7,
     "metadata": {},
     "output_type": "execute_result"
    }
   ],
   "source": [
    "memory_after = meta.memory_usage(deep=True).sum() / 1024\n",
    "f'{memory_after:.2f} KB'"
   ]
  },
  {
   "cell_type": "code",
   "execution_count": 10,
   "metadata": {},
   "outputs": [
    {
     "name": "stdout",
     "output_type": "stream",
     "text": [
      "533.87 KB\n"
     ]
    }
   ],
   "source": [
    "# memory difference\n",
    "print(f'{abs(memory_after - memory_before):.2f} KB')"
   ]
  },
  {
   "cell_type": "code",
   "execution_count": 11,
   "metadata": {},
   "outputs": [],
   "source": [
    "meta.to_csv('data/metadata.csv', index=False, encoding='utf-8')"
   ]
  }
 ],
 "metadata": {
  "kernelspec": {
   "display_name": "Python 3.9.12 ('.venv': venv)",
   "language": "python",
   "name": "python3"
  },
  "language_info": {
   "codemirror_mode": {
    "name": "ipython",
    "version": 3
   },
   "file_extension": ".py",
   "mimetype": "text/x-python",
   "name": "python",
   "nbconvert_exporter": "python",
   "pygments_lexer": "ipython3",
   "version": "3.9.12"
  },
  "orig_nbformat": 4,
  "vscode": {
   "interpreter": {
    "hash": "85161e3f97af1d89b5bbf9c411fd40ac176e886d5678202eef23a49816ba46d1"
   }
  }
 },
 "nbformat": 4,
 "nbformat_minor": 2
}
